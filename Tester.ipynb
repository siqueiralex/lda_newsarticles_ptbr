{
 "cells": [
  {
   "cell_type": "code",
   "execution_count": 1,
   "metadata": {},
   "outputs": [],
   "source": [
    "import Loader\n",
    "from pre_processor import Preprocessor\n",
    "from gensim.corpora.dictionary import Dictionary\n",
    "from gensim.models.wrappers import LdaMallet"
   ]
  },
  {
   "cell_type": "markdown",
   "metadata": {},
   "source": [
    "### Load corpus"
   ]
  },
  {
   "cell_type": "code",
   "execution_count": 2,
   "metadata": {},
   "outputs": [],
   "source": [
    "corpus = Loader.load_from_folder(\"data\")"
   ]
  },
  {
   "cell_type": "markdown",
   "metadata": {},
   "source": [
    "### Pre-process and tokenize"
   ]
  },
  {
   "cell_type": "code",
   "execution_count": 3,
   "metadata": {},
   "outputs": [],
   "source": [
    "# alterei o pre_processor pra devolver tokenizado e não fazer steeming (mais fácil de visualizar)\n",
    "p = Preprocessor(lang='portuguese')\n",
    "pre_processed = p.transform(corpus['articles'])"
   ]
  },
  {
   "cell_type": "markdown",
   "metadata": {},
   "source": [
    "### Vectorize data "
   ]
  },
  {
   "cell_type": "code",
   "execution_count": 4,
   "metadata": {},
   "outputs": [],
   "source": [
    "common_dictionary = Dictionary(pre_processed)\n",
    "common_corpus = [common_dictionary.doc2bow(text) for text in pre_processed]"
   ]
  },
  {
   "cell_type": "markdown",
   "metadata": {},
   "source": [
    "### Apply model"
   ]
  },
  {
   "cell_type": "code",
   "execution_count": 5,
   "metadata": {},
   "outputs": [],
   "source": [
    "lda = LdaMallet('/Users/alex/mallet-2.0.8/bin/mallet',common_corpus, num_topics=50,id2word=common_dictionary, workers=8)"
   ]
  },
  {
   "cell_type": "code",
   "execution_count": 6,
   "metadata": {},
   "outputs": [
    {
     "data": {
      "text/plain": [
       "[(23,\n",
       "  '0.051*\"dia\" + 0.044*\"dias\" + 0.028*\"janeiro\" + 0.022*\"dois\" + 0.021*\"quatro\" + 0.021*\"ano\" + 0.019*\"mes\" + 0.017*\"tres\" + 0.016*\"meses\" + 0.014*\"semana\"'),\n",
       " (42,\n",
       "  '0.033*\"segundo\" + 0.029*\"ano\" + 0.025*\"produtos\" + 0.024*\"mercado\" + 0.023*\"deve\" + 0.019*\"precos\" + 0.018*\"afirma\" + 0.017*\"empresa\" + 0.016*\"os\" + 0.016*\"vendas\"'),\n",
       " (28,\n",
       "  '0.059*\"mil\" + 0.032*\"para\" + 0.021*\"cr\" + 0.019*\"antes\" + 0.019*\"cerca\" + 0.018*\"fazer\" + 0.018*\"conta\" + 0.017*\"faz\" + 0.015*\"seis\" + 0.015*\"porque\"'),\n",
       " (41,\n",
       "  '0.021*\"jose\" + 0.019*\"agua\" + 0.017*\"media\" + 0.016*\"renda\" + 0.015*\"regiao\" + 0.014*\"os\" + 0.014*\"anos\" + 0.013*\"minimo\" + 0.012*\"segundo\" + 0.011*\"casa\"'),\n",
       " (12,\n",
       "  '0.025*\"vida\" + 0.021*\"ser\" + 0.020*\"contra\" + 0.016*\"fome\" + 0.014*\"betinho\" + 0.014*\"casa\" + 0.014*\"campanha\" + 0.013*\"ratos\" + 0.011*\"jorge\" + 0.011*\"fundacao\"'),\n",
       " (17,\n",
       "  '0.042*\"eua\" + 0.029*\"tv\" + 0.018*\"americano\" + 0.017*\"estados\" + 0.017*\"anos\" + 0.016*\"americanos\" + 0.016*\"maior\" + 0.016*\"cabo\" + 0.015*\"america\" + 0.014*\"milhoes\"'),\n",
       " (20,\n",
       "  '0.020*\"bem\" + 0.018*\"desenvolvimento\" + 0.017*\"anos\" + 0.017*\"politica\" + 0.016*\"oliveira\" + 0.013*\"tempo\" + 0.012*\"brasil\" + 0.012*\"paises\" + 0.011*\"fmi\" + 0.011*\"forma\"'),\n",
       " (27,\n",
       "  '0.046*\"cinema\" + 0.034*\"filmes\" + 0.027*\"filme\" + 0.024*\"mercado\" + 0.017*\"hoje\" + 0.014*\"video\" + 0.014*\"arte\" + 0.012*\"em\" + 0.011*\"brasileiro\" + 0.011*\"vai\"'),\n",
       " (24,\n",
       "  '0.023*\"nao\" + 0.018*\"agora\" + 0.017*\"tempo\" + 0.017*\"dia\" + 0.016*\"la\" + 0.013*\"lado\" + 0.013*\"havia\" + 0.013*\"outros\" + 0.012*\"foi\" + 0.012*\"vida\"'),\n",
       " (1,\n",
       "  '0.028*\"brasil\" + 0.020*\"brasileiros\" + 0.020*\"tres\" + 0.018*\"argentina\" + 0.017*\"direito\" + 0.015*\"pais\" + 0.015*\"neste\" + 0.014*\"paises\" + 0.013*\"brasileiras\" + 0.013*\"mercosul\"')]"
      ]
     },
     "execution_count": 6,
     "metadata": {},
     "output_type": "execute_result"
    }
   ],
   "source": [
    "lda.show_topics()"
   ]
  },
  {
   "cell_type": "markdown",
   "metadata": {},
   "source": [
    "### Checking topic from a random document "
   ]
  },
  {
   "cell_type": "code",
   "execution_count": 7,
   "metadata": {},
   "outputs": [
    {
     "name": "stdout",
     "output_type": "stream",
     "text": [
      "Topic: 0.030*\"feira\" + 0.028*\"vai\" + 0.020*\"na\" + 0.017*\"da\" + 0.017*\"segunda\" + 0.016*\"grupo\" + 0.015*\"ultima\" + 0.014*\"desde\" + 0.014*\"quinta\" + 0.014*\"reportagem\"\n",
      "Article:  LUÍS PEREZ Da Reportagem Local Começa depois de amanhã, dia 4, a segunda fase da Fuvest. Dos 140.518 inscritos, 31.492 continuam disputando as 8.401 vagas na USP (Universidade de São Paulo) e mais quatro instituições Escola Paulista de Medicina, Santa Casa, Fundação Getúlio Vargas e Universidade Federal de São Carlos. \"O pessoal deste ano está muito bem preparado\", afirma o vice-diretor da Fuvest, José Atílio Vanin, 49, para quem o novo critério de convocação cujo cálculo é feito pela raiz quadrada do produto entre inscritos e vagas selecionou candidatos com nível mais alto do que nos anos anteriores. A fórmula faz com que candidatos a carreiras mais concorridas tenham mais chances de disputar a segunda fase. Para fazer o exame, o candidato deve apresentar o original da carteira de identidade. A perda do documento deve ser comunicada à Fuvest (veja quadro ao lado). É recomendável visitar o local de exame amanhã para evitar atrasos no dia da prova. O candidato deve chegar às 13h para fazer a prova. O acesso às salas é permitido até as 13h40. A prova tem duração de quatro horas. No primeiro dia, há exames de língua estrangeira (inglês ou francês), português e redação. No segundo, história e física. No terceiro, biologia e química. No quarto, geografia e matemática. Uma novidade no vestibular é a realização das provas de terça a sexta e não de domingo a quarta. Os candidatos que deixarem as salas devem entregar ao fiscal tanto o caderno de respostas quanto o de questões, que só poderá ser recuperado no dia seguinte, às 16h, no próprio local. Só quem deixar a classe às 18h poderá levar as questões. A medida foi tomada para evitar fraudes. \n"
     ]
    }
   ],
   "source": [
    "from random import randint\n",
    "doc_number = randint(0, len(corpus['articles'])-1)\n",
    "test_topics = lda[common_corpus[doc_number]]\n",
    "test_topics.sort(key=lambda x: x[1], reverse=True)\n",
    "print(\"Topic:\",lda.print_topic(test_topics[0][0]))\n",
    "print(\"Article:\", corpus['articles'][doc_number])\n"
   ]
  },
  {
   "cell_type": "code",
   "execution_count": 79,
   "metadata": {},
   "outputs": [
    {
     "data": {
      "text/plain": [
       "['da',\n",
       " 'reportagem',\n",
       " 'local',\n",
       " 'para',\n",
       " 'entrar',\n",
       " 'negocio',\n",
       " 'moveis',\n",
       " 'objetos',\n",
       " 'antigos',\n",
       " 'preciso',\n",
       " 'visitar',\n",
       " 'lojas',\n",
       " 'existentes',\n",
       " 'procurar',\n",
       " 'filao',\n",
       " 'muitos',\n",
       " 'concorrentes',\n",
       " 'antiguidades',\n",
       " 'bonsucesso',\n",
       " 'especializada',\n",
       " 'fornecer',\n",
       " 'objetos',\n",
       " 'decoracao',\n",
       " 'cenarios',\n",
       " 'teatro',\n",
       " 'televisao',\n",
       " 'para',\n",
       " 'novela',\n",
       " 'renascer',\n",
       " 'globo',\n",
       " 'alugou',\n",
       " 'toda',\n",
       " 'cenografia',\n",
       " 'cecilia',\n",
       " 'suguino',\n",
       " 'brasil',\n",
       " 'antigo',\n",
       " 'diz',\n",
       " 'maior',\n",
       " 'clientela',\n",
       " 'loja',\n",
       " 'refere',\n",
       " 'locacao',\n",
       " 'agencias',\n",
       " 'publicidade',\n",
       " 'necessitam',\n",
       " 'objetos',\n",
       " 'pequenos',\n",
       " 'museu',\n",
       " 'acervo',\n",
       " 'moveis',\n",
       " 'ingleses',\n",
       " 'franceses',\n",
       " 'jacaranda',\n",
       " 'embuia',\n",
       " 'maioria',\n",
       " 'virada',\n",
       " 'seculo',\n",
       " 'atende',\n",
       " 'emissoras',\n",
       " 'tv',\n",
       " 'forneceu',\n",
       " 'maioria',\n",
       " 'moveis',\n",
       " 'novela',\n",
       " 'kananga',\n",
       " 'japao',\n",
       " 'rede',\n",
       " 'manchete',\n",
       " 'na',\n",
       " 'casa',\n",
       " 'velha',\n",
       " 'encontrados',\n",
       " 'moveis',\n",
       " 'objetos',\n",
       " 'desde',\n",
       " 'inicio',\n",
       " 'seculo',\n",
       " 'decada',\n",
       " 'mas',\n",
       " 'sandra',\n",
       " 'tripoli',\n",
       " 'gerente',\n",
       " 'diz',\n",
       " 'maior',\n",
       " 'procura',\n",
       " 'moveis',\n",
       " 'grande',\n",
       " 'porte',\n",
       " 'geralmente',\n",
       " 'levados',\n",
       " 'casas',\n",
       " 'fazenda',\n",
       " 'interior',\n",
       " 'estado']"
      ]
     },
     "execution_count": 79,
     "metadata": {},
     "output_type": "execute_result"
    }
   ],
   "source": [
    "# aproveitar pra conferir o pre_processamento\n",
    "pre_processed[doc_number]"
   ]
  },
  {
   "cell_type": "code",
   "execution_count": 66,
   "metadata": {},
   "outputs": [],
   "source": []
  },
  {
   "cell_type": "code",
   "execution_count": null,
   "metadata": {},
   "outputs": [],
   "source": []
  }
 ],
 "metadata": {
  "kernelspec": {
   "display_name": "Python 3",
   "language": "python",
   "name": "python3"
  },
  "language_info": {
   "codemirror_mode": {
    "name": "ipython",
    "version": 3
   },
   "file_extension": ".py",
   "mimetype": "text/x-python",
   "name": "python",
   "nbconvert_exporter": "python",
   "pygments_lexer": "ipython3",
   "version": "3.7.0"
  }
 },
 "nbformat": 4,
 "nbformat_minor": 2
}
