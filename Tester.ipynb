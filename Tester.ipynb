{
 "cells": [
  {
   "cell_type": "code",
   "execution_count": 1,
   "metadata": {},
   "outputs": [],
   "source": [
    "import Loader\n",
    "from PreProcessor import Preprocessor\n",
    "from LdaMalletHandler import LdaMalletHandler\n",
    "from DocumentRetriever import DocumentRetriever\n",
    "from gensim.corpora.dictionary import Dictionary\n",
    "from gensim.models.wrappers import LdaMallet"
   ]
  },
  {
   "cell_type": "markdown",
   "metadata": {},
   "source": [
    "### Load corpus"
   ]
  },
  {
   "cell_type": "code",
   "execution_count": 2,
   "metadata": {},
   "outputs": [],
   "source": [
    "corpus = Loader.load_from_folder(\"data/Folha1mes/\")"
   ]
  },
  {
   "cell_type": "code",
   "execution_count": 3,
   "metadata": {},
   "outputs": [
    {
     "data": {
      "text/plain": [
       "5741"
      ]
     },
     "execution_count": 3,
     "metadata": {},
     "output_type": "execute_result"
    }
   ],
   "source": [
    "len(corpus['articles'])"
   ]
  },
  {
   "cell_type": "markdown",
   "metadata": {},
   "source": [
    "### Pre-process and tokenize"
   ]
  },
  {
   "cell_type": "code",
   "execution_count": 4,
   "metadata": {},
   "outputs": [],
   "source": [
    "# alterei o pre_processor pra devolver tokenizado e não fazer steeming (mais fácil de visualizar)\n",
    "# Provavelmente teremos que fazer outro\n",
    "p = Preprocessor(lang='portuguese')  \n",
    "pre_processed = p.transform(corpus['articles'])"
   ]
  },
  {
   "cell_type": "markdown",
   "metadata": {},
   "source": [
    "### Apply model"
   ]
  },
  {
   "cell_type": "code",
   "execution_count": 5,
   "metadata": {},
   "outputs": [],
   "source": [
    "lda = LdaMalletHandler(mallet_path='/Users/alex/mallet-2.0.8/bin/mallet')\n",
    "lda.run_model(model_name= \"1MesFolha50\", corpus=pre_processed, num_topics=50)"
   ]
  },
  {
   "cell_type": "code",
   "execution_count": 6,
   "metadata": {},
   "outputs": [],
   "source": [
    "lda.save_model()"
   ]
  },
  {
   "cell_type": "code",
   "execution_count": 7,
   "metadata": {},
   "outputs": [
    {
     "data": {
      "text/plain": [
       "['governo recursos empresas social projeto estatais nacional ministerio federal uniao',\n",
       " 'santos novo ter hoje clube contrato semana deve carlos ainda',\n",
       " 'pode ser tempo deve forma alem menos ter fazer cada',\n",
       " 'dia ai rarara gente diz fica pra vai tudo la',\n",
       " 'ser sobre forma questao parte razao fato relacao ponto assim',\n",
       " 'sindicato cruz presidente cut silva crime pt junior oswaldo disse',\n",
       " 'futebol selecao brasil copa brasileiro clubes brasileira jogadores campeonato rio',\n",
       " 'teatro arte tel anos hoje paris peca moda exposicao onde',\n",
       " 'mil cr funcionarios pagamento trabalho valor salarios pagar salario mes',\n",
       " 'partido lula pt candidato revisao pmdb partidos presidente governador voto',\n",
       " 'justica caso lei tribunal federal direito processo publico contra geral',\n",
       " 'tudo nada homem tao grande ser melhor lugar assim vida',\n",
       " 'paulo sp antonio carlos jose governador filho luiz folha joao',\n",
       " 'saude medico hospital aids casos medicos doenca medicina tratamento amazonas',\n",
       " 'precos ano dezembro janeiro aumento mes periodo passado maior media',\n",
       " 'brasil paises mercado economia pais mundo crescimento comercio producao anos',\n",
       " 'disse ontem afirmou acordo ter segundo presidente rio sobre feira',\n",
       " 'show musica banda rock disco noite publico grupo gil brasil',\n",
       " 'agora bem todos ainda qualquer menos vez sempre nada assim',\n",
       " 'contra campanha ser paulo prisao anos fome pena pc violencia',\n",
       " 'pessoas ontem segundo horas cerca acidente ficaram km onibus causa',\n",
       " 'casa onde anos familia nova la maria pai mulher jackson',\n",
       " 'rua cidade centro local avenida zona casa regiao ruas paulista',\n",
       " 'exercito governo pais nacional grupo mexico contra internacionais agencias estado',\n",
       " 'tv rio globo carnaval vai programa televisao samba bandeirantes dia',\n",
       " 'sobre imposto receita aumento renda impostos federal ser empresas bancos',\n",
       " 'cpi deputado orcamento relatorio comissao parlamentares senador pfl pmdb magalhaes',\n",
       " 'empresa mil mercado milhoes empresas ano vendas produtos diretor lojas',\n",
       " 'filme livro cinema historia filmes sobre livros eua autor mundo',\n",
       " 'anos menos dois pesquisa numero mulheres apenas criancas maior cada',\n",
       " 'milhoes dinheiro banco bilhoes empresa acoes bancos divida mil recursos',\n",
       " 'carro ano carros final prova reportagem local mundial motor piloto',\n",
       " 'cr mil viagem tres dias pontos hotel cinco custa feira',\n",
       " 'paulo prefeitura projeto prefeito secretario obras obra meio municipal maluf',\n",
       " 'time paulo tecnico equipe jogo corinthians contra jogadores palmeiras local',\n",
       " 'folha porque fazer coisa acho ser vai brasil gente ter',\n",
       " 'sistema tel programas programa informacoes pode ser cd computador versao',\n",
       " 'eua presidente clinton norte pais governo washington guerra russia partido',\n",
       " 'dia cr mercado dias mes dolar juros anterior pontos ano',\n",
       " 'pais politica sociedade estado poder brasil politico sistema grande povo',\n",
       " 'rio grande mil cidade sul estado praia agencia segundo santa',\n",
       " 'ano ser deve ainda passado final apenas devem vai semana',\n",
       " 'tempo fez primeiro segundo min chegou conseguiu dois passou deu',\n",
       " 'policia policiais presos dois ontem segundo pm rio zona delegado',\n",
       " 'inflacao governo urv plano precos economica fhc economia real equipe',\n",
       " 'anos norte americana nova los americano melhor york vez francisco',\n",
       " 'sobre jornal ser edicao caso mulheres ter revista paginas ainda',\n",
       " 'ministro presidente governo congresso fernando henrique itamar brasilia camara ontem',\n",
       " 'diz local reportagem paulo afirma segundo ser telefone conta explica',\n",
       " 'universidade dia escola educacao professor curso escolas ano prova alunos']"
      ]
     },
     "execution_count": 7,
     "metadata": {},
     "output_type": "execute_result"
    }
   ],
   "source": [
    "lda.get_string_topics()"
   ]
  },
  {
   "cell_type": "markdown",
   "metadata": {},
   "source": [
    "### Checking topic from a random document "
   ]
  },
  {
   "cell_type": "code",
   "execution_count": 7,
   "metadata": {},
   "outputs": [
    {
     "name": "stdout",
     "output_type": "stream",
     "text": [
      "Topic: 0.021*\"economia\" + 0.017*\"crescimento\" + 0.016*\"mercado\" + 0.015*\"industria\" + 0.014*\"paises\" + 0.014*\"setor\" + 0.012*\"producao\" + 0.012*\"comercio\" + 0.011*\"pais\" + 0.011*\"brasil\"\n",
      "Article:  Para sir Colin Marshall, presidente da British Airways, descontos e incentivos aos passageiros continuarão em 94 ANTONIO CARLOS SEIDL Enviado especial a Londres A indústria mundial de aviação vai dar mais descontos e oferecer mais incentivos aos passageiros, como resultado da intensa competição entre as empresas. A previsão é de sir Colin Marshall, 60, presidente da British Airways, empresa britânica de aviação privatizada em 1987. Sir Colin diz que o excesso da oferta e a queda da procura na primeira classe e executiva são os fatores responsáveis pelo acirramento da \"luta pela sobrevivência\" em 1994. \"O mercado favorável ao consumidor resulta num setor que prioriza suas necessidades, e não as do produtor\", diz. Terceira empresa mais lucrativa (lucro líquido de US$ 178 milhões em 1993), depois da Singapore Airlines e Cathay Pacific, segundo a renomada revista \"Air Transport World\", a British Airways, afirma sir Colin, \"anseia há muito pelas condições de mercado livre na aviação civil\". Comemorando a entrada da British Airways no ranking das cem maiores empresas européias, publicado na semana passada pelo jornal \"The European\" (única empresa de aviação), sir Colin diz que a estratégia da empresa se baseia no \"aumento da eficiência e redução dos custos\". A seguir, as principais previsões de sir Colin. * MERCADO LIVRE A indústria internacional de aviação está passando por um processo de transformações fundamentais. A principal transformação é a mudança gradual da regulamentação governamental de suas atividades comerciais, com o surgimento de um mercado livre. Significa que mercados que tradicionalmente estavam sob proteção serão abertos a novas oportunidades para a British Airways. Nosso objetivo é a criação de um sistema universal no qual as redes operacionais da BA e das associadas passem a operar de uma maneira até então impossível. Em vez de os passageiros se verem perdidos entre os serviços de conexão isolados, vão se beneficiar de serviços integrados. CRESCIMENTO CONTÍNUO Deixando de lado o declínio de 1991, causado pela Guerra do Golfo, o mercado de viagens aéreas tem registrado um crescimento contínuo. Esse crescimento superou as expectativas e previsões. O mercado de viagens aéreas deverá continuar a crescer a uma taxa média mundial de 5% a 6% por ano nos próximos dez anos. No ano passado, 1,2 bilhão de pessoas fizeram viagens internacionais. De acordo com a taxa de crescimento esperada, esse volume de passageiros dobrará até o ano 2000 e quadruplicará poucos anos depois. Alguns mercados sofrerão declínios ocasionais, como acontece atualmente no Japão, mas outros mercados mostram níveis elevados de crescimento. ÁSIA E PACÍFICO O mercado asiático e do Pacífico mostrará o maior crescimento em 1994. Outra área de expansão será a de viagens entre os países da Europa Central e Oriental. O mercado britânico deverá continuar a crescer, na esteira da recuperação econômica, com os aumentos das viagens de negócios e de turismo. O crescimento do mercado norte-americano será mais lento, mas continuará a responder por 40% do mercado global de viagens aéreas.  Continua na pág. 6-12  O jornalista ANTONIO CARLOS SEIDL viajou a convite da British Airways. \n"
     ]
    }
   ],
   "source": [
    "from random import randint\n",
    "doc_number = randint(0, len(corpus['articles'])-1)\n",
    "test_topics = lda.ext_doc_topics(pre_processed[doc_number])\n",
    "print(\"Topic:\",lda.model.print_topic(test_topics[0][0]))\n",
    "print(\"Article:\", corpus['articles'][doc_number])\n"
   ]
  },
  {
   "cell_type": "markdown",
   "metadata": {},
   "source": [
    "### Retrieving Similar Documents "
   ]
  },
  {
   "cell_type": "code",
   "execution_count": 8,
   "metadata": {},
   "outputs": [],
   "source": [
    "most_similar = lda.ext_doc_n_most_similar(pre_processed[doc_number])"
   ]
  },
  {
   "cell_type": "code",
   "execution_count": 9,
   "metadata": {},
   "outputs": [
    {
     "name": "stdout",
     "output_type": "stream",
     "text": [
      "SIMILAR:  Para sir Colin Marshall, presidente da British Airways, descontos e incentivos aos passageiros continuarão em 94 ANTONIO CARLOS SEIDL Enviado especial a Londres A indústria mundial de aviação vai dar mais descontos e oferecer mais incentivos aos passageiros, como resultado da intensa competição entre as empresas. A previsão é de sir Colin Marshall, 60, presidente da British Airways, empresa britânica de aviação privatizada em 1987. Sir Colin diz que o excesso da oferta e a queda da procura na primeira classe e executiva são os fatores responsáveis pelo acirramento da \"luta pela sobrevivência\" em 1994. \"O mercado favorável ao consumidor resulta num setor que prioriza suas necessidades, e não as do produtor\", diz. Terceira empresa mais lucrativa (lucro líquido de US$ 178 milhões em 1993), depois da Singapore Airlines e Cathay Pacific, segundo a renomada revista \"Air Transport World\", a British Airways, afirma sir Colin, \"anseia há muito pelas condições de mercado livre na aviação civil\". Comemorando a entrada da British Airways no ranking das cem maiores empresas européias, publicado na semana passada pelo jornal \"The European\" (única empresa de aviação), sir Colin diz que a estratégia da empresa se baseia no \"aumento da eficiência e redução dos custos\". A seguir, as principais previsões de sir Colin. * MERCADO LIVRE A indústria internacional de aviação está passando por um processo de transformações fundamentais. A principal transformação é a mudança gradual da regulamentação governamental de suas atividades comerciais, com o surgimento de um mercado livre. Significa que mercados que tradicionalmente estavam sob proteção serão abertos a novas oportunidades para a British Airways. Nosso objetivo é a criação de um sistema universal no qual as redes operacionais da BA e das associadas passem a operar de uma maneira até então impossível. Em vez de os passageiros se verem perdidos entre os serviços de conexão isolados, vão se beneficiar de serviços integrados. CRESCIMENTO CONTÍNUO Deixando de lado o declínio de 1991, causado pela Guerra do Golfo, o mercado de viagens aéreas tem registrado um crescimento contínuo. Esse crescimento superou as expectativas e previsões. O mercado de viagens aéreas deverá continuar a crescer a uma taxa média mundial de 5% a 6% por ano nos próximos dez anos. No ano passado, 1,2 bilhão de pessoas fizeram viagens internacionais. De acordo com a taxa de crescimento esperada, esse volume de passageiros dobrará até o ano 2000 e quadruplicará poucos anos depois. Alguns mercados sofrerão declínios ocasionais, como acontece atualmente no Japão, mas outros mercados mostram níveis elevados de crescimento. ÁSIA E PACÍFICO O mercado asiático e do Pacífico mostrará o maior crescimento em 1994. Outra área de expansão será a de viagens entre os países da Europa Central e Oriental. O mercado britânico deverá continuar a crescer, na esteira da recuperação econômica, com os aumentos das viagens de negócios e de turismo. O crescimento do mercado norte-americano será mais lento, mas continuará a responder por 40% do mercado global de viagens aéreas.  Continua na pág. 6-12  O jornalista ANTONIO CARLOS SEIDL viajou a convite da British Airways. \n",
      "\n",
      "SIMILAR:  Segundo sir Colin Marshall, corrupção, inflação e violência urbana reduzem o número de viajantes para o país MERCADO EUROPEU A nossa resposta às novas oportunidades do mercado único na Europa foi investir em alianças com empresas da Europa continental, através da joint venture Deutsche BA, criando uma nova empresa na Alemanha, e a aquisição de uma participação substancial da TAT, na França, que possibilitou a entrada da marca British Airways no mercado francês, aumentando dessa maneira a competição e escolha nos vôos entre Paris e Copenhague, Munique e Estocolmo. Nosso objetivo é desenvolver uma empresa pan-européia, conforme sugerem os executivos da União Européia e os líderes políticos europeus. No mercado europeu ainda há restrições ao mercado livre, como resultado do atual período de transição solicitado por algumas empresas. Quando isso acabar, em 1997, conforme previsto pela União Européia, haverá competição livre na indústria de aviação do continente. A principal consequência para o consumidor acontecerá depois da privatização das grandes empresas estatais de aviação da Europa Air France, Lufthansa e Iberia, entre outras, que terão de defender somente as iniciativas comerciais para seu sucesso empresarial, da mesma maneira que acontece atualmente com a British Airways. PASSAGENS MAIS BARATAS A British Airways defende o mercado livre na indústria da aviação porque uma situação de intensa competição impede o aumento em termos reais (isto é, acima da taxa de inflação) dos preços das passagens. É verdade que, com poucas exceções a British Airways é uma delas, as empresas aéreas têm tido muitos prejuízos nos últimos anos. A indústria como um todo teve um prejuízo de US$ 4,8 bilhões em 1992. As empresas deficitárias, quase todas estatais, sobrevivem graças aos subsídios governamentais ou ao mecanismo de proteção contra a falência, conforme ocorre nos EUA. Esses são fatores que distorcem a competição e se constituem em áreas de preocupação para a BA. POSIÇÃO DO BRASIL A British Airways não tem obtido os resultados esperados com seus quatro vôos semanais entre Londres, Rio de Janeiro e São Paulo. Isso é o reflexo da difícil situação econômica do Brasil. Mantivemos nossa parcela do mercado, mas as operações têm sido difíceis. Iniciamos a ligação de São Paulo com Santiago em outubro passado, e os primeiros resultados são encorajadores. A British Airways tem serviços de Londres para o Brasil, México, Venezuela, Argentina e agora Chile. Reiniciamos nossos serviços para o Brasil em 1985. A posição do Brasil, principal mercado da BA na América Latina 38% do nosso faturamento na região até 1992, está ameaçada pelo crescimento do mercado argentino. Depois de uma longa ausência na esteira da guerra nas Malvinas, em 1982, voltamos ao mercado argentino em 1990. De lá até hoje, o faturamento dos nossos serviços para a Argentina alcançou 20% do total na região. O mercado brasileiro continua a oferecer o maior potencial para a indústria de aviação em geral e para a BA em particular. Gostaríamos de ver estabilidade econômica e política no Brasil. As reportagens publicadas na imprensa européia sobre corrupção política, inflação incontrolável e violência urbana no Brasil reduzem significativamente o fluxo de viagens de negócios e de turismo da Europa para o Brasil. ALIANÇAS NA AL Nossos esforços atualmente estão concentrados no desenvolvimento do potencial das alianças firmadas nos últimos anos USair, nos EUA; Qantas, na Asia e Pacífico; Deutsche BA, na Alemanha; TAT European Airlines, na França; e GB Airways, no sul da Europa. No momento, não temos planos para alianças ou investimentos em participação acionária nas grandes empresas de aviação internacionais ou regionais da América Latina. A prioridade de expansão da BA está no mercado promissor do Extremo Oriente, onde ainda não celebramos nenhuma parceria. Nossos planos para a América Latina, e para o Brasil, podem mudar quando o crescimento do mercado justificar novos investimentos. A BA está atenta ao surgimento de novas oportunidades. AVIÃO DO FUTURO Uma das grandes inovações da indústria da aviação para o futuro será o desenvolvimento de um novo grande avião, o projeto NLA (das iniciais em inglês de New Large Airliner). A BA está em negociações sobre esse projeto com as principais empresas fabricantes de aviões. O projeto NLA tem como objetivo a fabricação de um avião capaz de transportar 600 passageiros, em três classes, com mais conforto e capacidade operacional. O custo médio por passageiro/milha deverá ser 20% menor que os níveis atuais do Boeing-747, por exemplo. Nossas pesquisas indicam que o passageiro típico do futuro vai querer mais opções de ambientes no avião, menos barulho e vibração, maior escolha de atividades durante o vôo, maior rapidez e facilidade no embarque e desembarque. A British Airways apresentou suas sugestões para o avião do futuro. Nossa proposta visa eficiência. Queremos abolir as inspeções de corrosão por toda a vida do avião e criar a capacidade de acesso dos computadores terrestres aos sistemas eletrônicos de bordo, de modo que o tempo de pequenos consertos e manutenção em terra seja mínimo. Também consideramos vital que o avião de 600 passageiros seja inofensivo para o meio ambiente, levando em conta os regulamentos do futuro para níveis de ruído e qualidade dos combustíveis. FUTURO PRÓXIMO Enquanto aguardamos o avião do futuro, contamos com a chegada do novo Boeing-777. Receberemos nossos primeiros 777 no segundo semestre de 1995. Com a BA, o 777 vai transportar até 313 passageiros, em três classes, nos vôos internacionais. O novo 777 vai substituir os Boeing-767, que utilizamos nas rotas do Golfo, os DC-10/30, que estão em serviço desde meados da década de 70, e complementar o Boeing-747/400 nos principais serviços intercontinentais. (Antonio Carlos Seidl) \n",
      "\n",
      "SIMILAR:  No mapa \"A Divisão do Mundo em Blocos no Fim do Milênio\", não aparece a Eritréia, país que se tornou independente da Etiópia em 1993. O mapa com a localização correta está publicado na edição de 31/01/94 página 1-3.ERRAMOS    Veja importância dos blocos econômicos                                       Mapa que a Folha publica hoje mostra a distribuição da riqueza e poder pelo mundo no final do milênio Da Redação Os 117 países-membros do Gatt (Acordo Geral de Tarifas e Comércio) concluíram em dezembro passado a Rodada Uruguai de negociações, iniciada no final dos anos 70. Governos de todos os países envolvidos discursaram defendendo a liberalização do comércio mundial mas a realidade do mercado global é bem outra. \"Comércio administrado\", aliás, é a expressão favorita de Ira Magaziner, principal assessor para questões comerciais do presidente Bill Clinton, à frente da maior economia do planeta. Muitas tarifas e barreiras comerciais estão caindo, mas em cumprimento a imperativos geopolíticos precisos, não necessariamente a um ideal liberalizante (vejam-se, por exemplo, os privilégios tarifários que os EUA concedem à China, mas não a parceiros mais próximos). Se é verdade que uma guerra comercial generalizada parece distante do horizonte, a tendêndia à globalização convive com o fortalecimento de uma tendência oposta a consolidação de blocos econômicos e comerciais, sobretudo de caráter regional (mas nem sempre), nos quais os membros têm privilégios negados aos \"de fora\". Haverá mesmo uma \"fortaleza Europa\"? Os EUA vão mesmo deixar de privilegiar a Europa e voltar-se para o Pacífico? A África está realmente esquecida? Para ajudar o leitor a compreender esses processos, a Folha traz hoje o exclusivo mapa \"A Divisão do Mundo em Blocos no Fim do Milênio\", um pôster com tamanho equivalente a duas páginas do jornal, impresso em cores e em papel especial. Preparado por profissionais de Mundo e da seção Tendências Econômicas, o mapa e os gráficos e tabelas que o acompanham procuram dar uma representação gráfica dos mais importantes blocos econômicos e comerciais que estão se formando, com informações relevantes sobre a dimensão de seus mercados e de sua produção, seu desenvolvimento econômico recente e as fatias que conquistaram do mercado mundial. Pequenos textos distribuídos pelo mapa procuram dar conta de realidades e tendências das diversas regiões no plano social e geopolítico conflitos étnicos, religiosos ou entre países, movimentos migratórios importantes, focos de miséria e acesso à ajuda econômica estrangeira. No mapa, cada bloco econômico ou comercial é representado em uma cor. Países que pertencem simultaneamente a mais de um bloco aparecem com mais de uma cor. Países que não pertencem a nenhum dos agrupamentos mais importantes têm a cor cinza. Bonecos e moedas espalhados pelo mapa indicam a população total e a soma do Produto Interno Bruto (PIB) de cada bloco, cada par de figuras com a cor correspondente. O recém-formado Espaço Econômico Europeu aparece subdividido em sua partes constituintes, a União Européia (ex-Comunidade Européia) e a Associação Européia de Livre Comércio. Na parte inferior, as engrenagens permitem visualizar o peso econômico de cada país-membro de cada bloco. Todos os dados são do mais recente relatório do Banco Mundial, que acaba de ser divulgado em Washington. Dois gráficos complementares entre si, cada um de um lado do mapa, trazem informações sobre a distribuição de renda em dez países selecionados. Eles mostram, por exemplo, que o Brasil é entre eles o país que apresenta a pior situação nesse aspecto: enquanto os 20% mais ricos de sua população concentram 62,6% de toda a riqueza nacional, os 20% mais pobres têm acesso a apenas 2,4% dela. \n",
      "\n",
      "SIMILAR:  REGINA CARDEAL Da Redação Estados Unidos, Reino Unido e Canadá, que abriram caminho para a recessão mundial em 1990, renovam os sinais de crescimento econômico. É nestes três integrantes do Grupo dos Sete (países mais industrializados) que os analistas apostam suas fichas para a recuperação global em 1994. Se Reino Unido e Canadá têm importância relativa na engrenagem econômica mundial, os Estados Unidos se mantêm como potente motor, com uma economia de US$ 5,7 trilhões. Para a maior economia do globo, os principais institutos internacionais prevêem crescimento em torno de 3% este ano. É um número modesto se comparado ao que se espera da China. Os chineses vão espantar o mundo com crescimento econômico de dois dígitos pelo terceiro ano consecutivo. De seu lado, a América Latina, movida a investimentos privados e exportações, deve crescer em torno de 3,5%. Apesar da prevista desaceleração no México, Argentina e Chile, a América Latina conservará seu recém-conquistado segundo lugar como a região que mais cresce no mundo. O sudeste da Asia, com seus tigres e filhotes, continuará no topo da lista. Mercados emergentes, asiáticos e latino-americanos, se manterão como ímãs para o capital internacional. Este é o lado brilhante das previsões de instituições como o FMI e o Banco Mundial para o Ano Novo. O lado sombrio mostra uma fila de quase 35 milhões de desempregados só nos 24 países industrializados da OCDE, economia estagnada no Japão e um grande ponto de interrogação sobre a Alemanha. Contrariando estatísticas da OCDE (Organização de Cooperação e Desenvolvimento Econômico), que projetam a queda da economia alemã até meados do ano que vem, o ministro da Economia, Gunter Rexrodt, declarou esta semana encerrada a recessão no país. De qualquer maneira, Rexrodt espera para a \"locomotiva\" da Europa desempenho mais próximo de uma maria-fumaça do que de um trem-bala para 1994. Rexrodt acredita em crescimento de até 1%. Para a OCDE, a expansão alemã não passa de 0,5%. Para seus 24 países, a OCDE crava expansão média de 2,1% na primeira metade do ano, acelerando para 2,7% até o final de 94. Para comparar com os 'líderes\": o crescimento econômico nas chamadas Economias Dinâmicas da Asia (Coréia do Sul, Taiwan, Hong Kong, Cingapura, Tailândia e Malásia) vai atingir 6,1%. Mais boas novas: o Leste Europeu retomará o crescimento pela primeira vez desde o colapso do comunismo na virada da década. Já para a Rússia, cuja economia despencou mais de 10% em 1993, o cenário não é tão animador, apesar do aparente controle da inflação façanha que o Brasil não conseguiu em 1993 e que muitos analistas duvidam que consiga em 1994. Já os países ricos vão continuar experimentando níveis excepcionalmente baixos de inflação. Misturando o expressivo crescimento da Asia e América Latina, mais a recuperação do Leste, o FMI chega a um cenário de expansão global de 3,2% em 1994. É uma taxa considerada muito baixa para criar o número de novos empregos que o mundo precisa com urgência. \n",
      "\n",
      "SIMILAR:  GILSON SCHWARTZ De Equipe de Articulistas Até os anos 80 ainda havia quem pregasse o advento de uma Nova Ordem Mundial. Mas a variedade de blocos, acordos, uniões e tratados que continuam proliferando dá uma idéia menos de ordem e mais de colcha de retalhos. Para um dos mais conceituados estudiosos do comércio mundial, o economista Paul Krugman, do MIT (Massachusetts Institute of Technology), até mesmo o conceito de blocos deve ser abandonado. Foi uma espécie de \"teoria de estimação\" dos economistas na década passada que deve sair de moda já em 1994. Krugman acha que toda a discurseira sobre blocos serviu mais a políticos e a uma sub-indústria acadêmica. As críticas saíram na publicação \"The World in 1994\", da revista britânica \"The Economist\". A tendência econômica hoje predominante é a globalização. Várias das iniciativas regionais surgiram mais como reação a um sistema falido e emperrado (o Gatt, criado no pós-guerra), ou seja, como defesas contra o desmoronamento das velhas estruturas. A globalização, entretanto, é o futuro. Cada vez mais gente acredita que os vários subsistemas regionais não passam de uma fase intermediária rumo a esse futuro. E haja subsistemas. Hoje convivem na economia mundial tanto o próprio Gatt (Acordo Geral de Tarifas e Comércio) em reformas depois de perder a velha aura de guardião indiscutível do multilateralismo quanto acordos de livre comércio (como o Nafta, Acordo Norte-americano de Livre Comércio) ou subsistemas mais fechados (como a União Européia). O Mercosul pretende ser uma organização de outro tipo (união aduaneira). É mais fácil chamar tudo isso de blocos, mas na realidade trata-se de uma sobreposição de sistemas incongruentes, com instituições de alcance variado. Pode-se também olhar o mundo através de estatísticas, ao invés de se fixar nas instituições e organismos oficiais. Dividindo-se o mundo em três pólos norte-americano, europeu e asiático, o comércio total (exportações e importações) chega a cerca de US$ 5,5 trilhões. O comércio interno a esses blocos é de US$ 2,7 trilhões, ou seja, quase a metade do total. Além dos arranjos institucionais e das estatísticas nacionais, a imagem do mundo vem sendo redesenhada também pelas multinacionais. A ação dessas empresas provavelmente será mais importante, nos próximos anos, do que os acordos assinados por políticos. Só as múltis norte-americanas já dominam mais de 10% de todo o comércio mundial. A conjunção dos impulsos regionalistas e das tendências à globalização deverá gerar, no próximo milênio, uma economia distante dos dois grandes mitos dos últimos anos, a ordem liberal e o retorno do protecionismo. Será uma colcha de retalhos. Resta saber quantos conseguirão colocar-se sob sua cobertura. \n",
      "\n"
     ]
    }
   ],
   "source": [
    "for similar in most_similar:\n",
    "    print(\"SIMILAR:\", corpus['articles'][similar])\n",
    "    print()"
   ]
  },
  {
   "cell_type": "code",
   "execution_count": 10,
   "metadata": {},
   "outputs": [],
   "source": [
    "lda.save_model()"
   ]
  },
  {
   "cell_type": "code",
   "execution_count": null,
   "metadata": {},
   "outputs": [],
   "source": []
  }
 ],
 "metadata": {
  "kernelspec": {
   "display_name": "Python 3",
   "language": "python",
   "name": "python3"
  },
  "language_info": {
   "codemirror_mode": {
    "name": "ipython",
    "version": 3
   },
   "file_extension": ".py",
   "mimetype": "text/x-python",
   "name": "python",
   "nbconvert_exporter": "python",
   "pygments_lexer": "ipython3",
   "version": "3.6.6"
  }
 },
 "nbformat": 4,
 "nbformat_minor": 2
}
