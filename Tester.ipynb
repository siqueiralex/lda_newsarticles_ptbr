{
 "cells": [
  {
   "cell_type": "code",
   "execution_count": 1,
   "metadata": {},
   "outputs": [],
   "source": [
    "import Loader\n",
    "from PreProcessor import Preprocessor\n",
    "from LdaMalletHandler import LdaMalletHandler\n",
    "from DocumentRetriever import DocumentRetriever\n",
    "from gensim.corpora.dictionary import Dictionary\n",
    "from gensim.models.wrappers import LdaMallet"
   ]
  },
  {
   "cell_type": "markdown",
   "metadata": {},
   "source": [
    "### Load corpus"
   ]
  },
  {
   "cell_type": "code",
   "execution_count": 2,
   "metadata": {},
   "outputs": [],
   "source": [
    "corpus = Loader.load_from_folder(\"data\")"
   ]
  },
  {
   "cell_type": "code",
   "execution_count": 3,
   "metadata": {},
   "outputs": [
    {
     "data": {
      "text/plain": [
       "5741"
      ]
     },
     "execution_count": 3,
     "metadata": {},
     "output_type": "execute_result"
    }
   ],
   "source": [
    "len(corpus['articles'])"
   ]
  },
  {
   "cell_type": "markdown",
   "metadata": {},
   "source": [
    "### Pre-process and tokenize"
   ]
  },
  {
   "cell_type": "code",
   "execution_count": 5,
   "metadata": {},
   "outputs": [],
   "source": [
    "# alterei o pre_processor pra devolver tokenizado e não fazer steeming (mais fácil de visualizar)\n",
    "p = Preprocessor(lang='portuguese')\n",
    "pre_processed = p.transform(corpus['articles'])"
   ]
  },
  {
   "cell_type": "markdown",
   "metadata": {},
   "source": [
    "### Apply model"
   ]
  },
  {
   "cell_type": "code",
   "execution_count": 6,
   "metadata": {},
   "outputs": [],
   "source": [
    "lda = LdaMalletHandler(mallet_path='/Users/alex/mallet-2.0.8/bin/mallet')\n",
    "lda.run_model(model_name= \"demo\", corpus=pre_processed, num_topics=100)"
   ]
  },
  {
   "cell_type": "code",
   "execution_count": 8,
   "metadata": {},
   "outputs": [
    {
     "data": {
      "text/plain": [
       "[(57,\n",
       "  '0.038*\"prefeitura\" + 0.028*\"prefeito\" + 0.021*\"maluf\" + 0.021*\"obras\" + 0.020*\"municipal\" + 0.019*\"meio\" + 0.018*\"secretario\" + 0.016*\"obra\" + 0.016*\"ambiente\" + 0.015*\"projeto\"'),\n",
       " (24,\n",
       "  '0.039*\"livro\" + 0.020*\"autor\" + 0.017*\"sobre\" + 0.016*\"livros\" + 0.014*\"obra\" + 0.012*\"editora\" + 0.010*\"literatura\" + 0.009*\"leitura\" + 0.008*\"escritor\" + 0.008*\"historia\"'),\n",
       " (61,\n",
       "  '0.038*\"criancas\" + 0.036*\"anos\" + 0.029*\"para\" + 0.018*\"os\" + 0.018*\"amazonas\" + 0.017*\"manaus\" + 0.015*\"jovens\" + 0.014*\"adolescentes\" + 0.014*\"tem\" + 0.013*\"dia\"'),\n",
       " (52,\n",
       "  '0.030*\"teatro\" + 0.017*\"peca\" + 0.015*\"ator\" + 0.014*\"atriz\" + 0.010*\"espetaculo\" + 0.009*\"diretor\" + 0.008*\"atores\" + 0.008*\"novela\" + 0.007*\"jose\" + 0.007*\"hoje\"'),\n",
       " (49,\n",
       "  '0.041*\"filme\" + 0.027*\"cinema\" + 0.024*\"filmes\" + 0.010*\"historia\" + 0.008*\"direcao\" + 0.008*\"video\" + 0.008*\"tv\" + 0.006*\"serie\" + 0.006*\"em\" + 0.006*\"personagens\"'),\n",
       " (15,\n",
       "  '0.020*\"moda\" + 0.015*\"fotos\" + 0.012*\"nova\" + 0.010*\"modelos\" + 0.009*\"alta\" + 0.009*\"roupas\" + 0.007*\"revista\" + 0.007*\"trabalho\" + 0.007*\"gosto\" + 0.007*\"colecao\"'),\n",
       " (87,\n",
       "  '0.041*\"folha\" + 0.041*\"jornal\" + 0.016*\"contra\" + 0.014*\"globo\" + 0.013*\"sobre\" + 0.013*\"campanha\" + 0.011*\"nacional\" + 0.010*\"imprensa\" + 0.010*\"jornais\" + 0.009*\"dia\"'),\n",
       " (40,\n",
       "  '0.027*\"sistema\" + 0.025*\"informacoes\" + 0.022*\"servico\" + 0.016*\"servicos\" + 0.014*\"telefone\" + 0.013*\"rede\" + 0.010*\"cabo\" + 0.010*\"cada\" + 0.009*\"outras\" + 0.009*\"empresas\"'),\n",
       " (16,\n",
       "  '0.042*\"precos\" + 0.029*\"janeiro\" + 0.020*\"inflacao\" + 0.018*\"alta\" + 0.017*\"os\" + 0.017*\"dezembro\" + 0.016*\"mes\" + 0.015*\"aumento\" + 0.013*\"acima\" + 0.013*\"media\"'),\n",
       " (50,\n",
       "  '0.034*\"urv\" + 0.030*\"plano\" + 0.028*\"ministro\" + 0.028*\"fhc\" + 0.027*\"governo\" + 0.024*\"precos\" + 0.023*\"inflacao\" + 0.022*\"henrique\" + 0.022*\"fernando\" + 0.021*\"fazenda\"')]"
      ]
     },
     "execution_count": 8,
     "metadata": {},
     "output_type": "execute_result"
    }
   ],
   "source": [
    "lda.model.show_topics()"
   ]
  },
  {
   "cell_type": "markdown",
   "metadata": {},
   "source": [
    "### Checking topic from a random document "
   ]
  },
  {
   "cell_type": "code",
   "execution_count": 9,
   "metadata": {},
   "outputs": [
    {
     "name": "stdout",
     "output_type": "stream",
     "text": [
      "Topic: 0.034*\"praia\" + 0.021*\"cidade\" + 0.015*\"turismo\" + 0.014*\"turistas\" + 0.014*\"sul\" + 0.014*\"festa\" + 0.012*\"praias\" + 0.012*\"litoral\" + 0.011*\"dia\" + 0.010*\"verao\"\n",
      "Article:  Ulysses Guimarães não iria gosta nadinha da história. * Piloto do restaurante Piantella, em Brasília cujo dono agora é o deputado Manoel Moreira, o ex de Marinalva, Marco Aurélio Costa está de darling novo. Tem circulado pelas mesas fazendo discursos pró Orestes Quércia.   Panorâmica Está cada vez maior a pressão para que vingue o projeto de lei do deputado Ney Lopes. * Ele propõe o fim do pagamento do visto cobrado pelo Itamaraty para estrangeiros entrarem no Brasil se tiverem interesse econômico ou turístico.   Oráculo Assim que terminar a sessão vistoria pós-terremoto que faz em seu apartamento em Los Angeles, Myrian Rios se desfaz do endereço. E volta de vez para o Rio antes do Carnaval. * Só que a moça não quer saber de folia. Vai passar os quatro dias de festa em retiro espiritual comandado por padre Jonas no Maracanãzinho.   Tomada Como o estica-e-puxa nunca mais parou desde que ele assumiu um posto no governo Itamar onde cuida de dois ministérios e três comissões, Romildo Canhim teve que tomar aquela velha providência conhecida de todos os políticos à beira de um  stress. * Virou consumidor assíduo do pó de guaraná.   Crêpe Suzette Escoltado por sua modelo particular, o estilista francês Claude Montana está sendo aguardado para o Carnaval. * Além do Rio, ele faz rasante também em São Paulo.   Ração A jambette Simone Moreno começou sua carreira de  star com tudo a que tem direito. * Engordou seu porquinho com US$ 100 mil. Apenas com o comercial que gravou para a Brahma.   Balangandã Como recém-chegada à turma de jurados, a chiquésima Cristina Franco só quer saber agora de barracões. * Ela tem feito todo o circuito samba no pé para chegar al dente no Carnaval. Pronta para julgar o quesito \"Fantasia\" no desfile da Marquês de Sapucaí.   \n"
     ]
    }
   ],
   "source": [
    "from random import randint\n",
    "doc_number = randint(0, len(corpus['articles'])-1)\n",
    "test_topics = lda.ext_doc_topics(pre_processed[doc_number])\n",
    "print(\"Topic:\",lda.model.print_topic(test_topics[0][0]))\n",
    "print(\"Article:\", corpus['articles'][doc_number])\n"
   ]
  },
  {
   "cell_type": "markdown",
   "metadata": {},
   "source": [
    "### Retrieving Similar Documents "
   ]
  },
  {
   "cell_type": "code",
   "execution_count": 13,
   "metadata": {},
   "outputs": [],
   "source": [
    "most_similar = lda.ext_doc_n_most_similar(pre_processed[doc_number])"
   ]
  },
  {
   "cell_type": "code",
   "execution_count": 14,
   "metadata": {},
   "outputs": [
    {
     "name": "stdout",
     "output_type": "stream",
     "text": [
      "SIMILAR:  Ulysses Guimarães não iria gosta nadinha da história. * Piloto do restaurante Piantella, em Brasília cujo dono agora é o deputado Manoel Moreira, o ex de Marinalva, Marco Aurélio Costa está de darling novo. Tem circulado pelas mesas fazendo discursos pró Orestes Quércia.   Panorâmica Está cada vez maior a pressão para que vingue o projeto de lei do deputado Ney Lopes. * Ele propõe o fim do pagamento do visto cobrado pelo Itamaraty para estrangeiros entrarem no Brasil se tiverem interesse econômico ou turístico.   Oráculo Assim que terminar a sessão vistoria pós-terremoto que faz em seu apartamento em Los Angeles, Myrian Rios se desfaz do endereço. E volta de vez para o Rio antes do Carnaval. * Só que a moça não quer saber de folia. Vai passar os quatro dias de festa em retiro espiritual comandado por padre Jonas no Maracanãzinho.   Tomada Como o estica-e-puxa nunca mais parou desde que ele assumiu um posto no governo Itamar onde cuida de dois ministérios e três comissões, Romildo Canhim teve que tomar aquela velha providência conhecida de todos os políticos à beira de um  stress. * Virou consumidor assíduo do pó de guaraná.   Crêpe Suzette Escoltado por sua modelo particular, o estilista francês Claude Montana está sendo aguardado para o Carnaval. * Além do Rio, ele faz rasante também em São Paulo.   Ração A jambette Simone Moreno começou sua carreira de  star com tudo a que tem direito. * Engordou seu porquinho com US$ 100 mil. Apenas com o comercial que gravou para a Brahma.   Balangandã Como recém-chegada à turma de jurados, a chiquésima Cristina Franco só quer saber agora de barracões. * Ela tem feito todo o circuito samba no pé para chegar al dente no Carnaval. Pronta para julgar o quesito \"Fantasia\" no desfile da Marquês de Sapucaí.   \n",
      "\n",
      "SIMILAR:  Da Folha Vale Os turistas argentinos estão invadindo a cidade de Ilhabela, no litoral de São Paulo. Cerca de 50 agências de viagens de Buenos Aires, Rosário e Córdoba estão vendendo pacotes turísticos que incluem também a cidade de Ubatuba. O dólar se transformou em moeda corrente em Ilhabela. \n",
      "\n",
      "SIMILAR:  No começo de 1989, havia grande especulação sobre a possibilidade de Jânio Quadros ser candidato à Presidência da República. Para aumentar o mistério, o ex-presidente viajou com a mulher para uma longa temporada no exterior. Durante sua passagem pela Espanha, Jânio e Eloá, escoltados por Augusto Marzagão, resolveram fazer um passeio de carro pela região de Marbella. Secretário particular de Jânio quando este ocupou o Palácio do Planalto, Marzagão informou-se nos guias turísticos sobre as melhores praias e deu o itinerário ao motorista. Quando chegaram, Jânio viu as mulheres com os seios de fora e aprontou um escândalo:  Que falta de respeito! Caminhamos para o apocalipse! Rapidamente, retornaram ao hotel. Lá, Jânio mandou Eloá para o quarto e foi encontrar Marzagão no bar. Pediram ao barman um xerez e quando o amigo ensaiou um pedido de desculpas pelo roteiro do passeio que havia sugerido, Jânio cortou:  Marzagão, Eloá tem sono pesado. Vamos dar um mergulho naquela praia e ver se pegamos uma boa onda... \n",
      "\n",
      "SIMILAR:   FHC nega caminhada de candidato e visita Roberto Marinho Da Sucursal do Rio O abraço e quase beijo da drag queen Isabelita dos Patins foi o momento mais engraçado da caminhada por seis quadras que o ministro FHC fez durante o Réveillon em Copacabana. FHC negou que tenha feito uma \"caminhada de candidato\". O ministro da Fazenda FHC disse que pediria a Iemanjá para baixar a inflação e entusiasmou-se com o opoio recebido. Não foi vaiado nenhuma vez, apertou pelo menos 74 mãos e ouviu gritos de incentivo à sua candidatura à presidência. Foi aplaudido por vários grupos. \"E olha que a inflação está quase em 40%\", dizia, exultante. FHC passou a virada do ano no apartamento da Avenida Atlântica do banqueiro Marcos Magalhães Pinto (Banco Nacional). Magalhães Pinto é pai de Ana Lúcia, casada com o filho do ministro, Paulo. AS 22h58 foi até o hotel Copacabana Palace. A 1h30, fez visita ao apartamento de Copacabana do presidente das Organizações Globo, Roberto Marinho, que o tinha convidado para o Réveillon. Ganhou uma uva branca de uma fã. Foi mais procurado por mulheres, que queriam posar com ele para fotos. \n",
      "\n",
      "SIMILAR:  Hotéis, pousadas e restaurantes proporcionam aos visitantes o inigualável \"padrão Búzios de qualidade\" PATRÍCIA TRUDES DA VEIGA Enviada especial a Búzios (RJ) Entra verão, sai verão, e lá está Búzios, melhor que nunca. A vila de pescadores que Brigitte Bardot tirou do anonimato ganhou ares de Primeiro Mundo e, definitivamente, entrou para a agenda de todo o mundo. Do verão de 64 ao verão de 94, Búzios conquistou nada menos que 45 nacionalidades. Transformou suas 22 praias numa sofisticada babel. Levou às ruas grifes como Benetton, Fiorucci, Ellus, Bee, Blue 4, Swatch, Yes Brazil. E implantou em seus hotéis, pousadas e restaurantes o inigualável \"padrão Búzios de qualidade\". É, está certo que Búzios não é para qualquer bolso. As pousadas mais baratas cobram em média US$ 46 (CR$ 17 mil) por uma diária preço que chega a US$ 77 (CR$ 28,5 mil) no Carnaval. Algumas são únicas, debruçam-se com charme sobre o mar Barracuda, Galápagos, Trópico de Capricórnio. Um desperdício, não dá nem vontade de sair de lá. Que ninguém cometa esse crime. Búzios é o melhor lugar do verão para ver, ser visto. Nas areias, muita gente rica, famosa, bonita, bronzeada, que se esquece do tempo, vira a madrugada em luaus na Tartaruga, na creperia Chez Michou, nas boates St. Trop, Le Club, Caligola. E que, de dia, levanta as âncoras de iates e veleiros para descobrir qual praia será lançada no verão de 95.  LEIA MAIS Sobre hotéis em Búzios nas págs. 6-12 e 6-13.  A jornalista PATRÍCIA TRUDES DA VEIGA viajou a convite da Associação dos Hotéis de Búzios (AHB). \n",
      "\n"
     ]
    }
   ],
   "source": [
    "for similar in most_similar:\n",
    "    print(\"SIMILAR:\", corpus['articles'][similar])\n",
    "    print()"
   ]
  },
  {
   "cell_type": "code",
   "execution_count": null,
   "metadata": {},
   "outputs": [],
   "source": []
  }
 ],
 "metadata": {
  "kernelspec": {
   "display_name": "Python 3",
   "language": "python",
   "name": "python3"
  },
  "language_info": {
   "codemirror_mode": {
    "name": "ipython",
    "version": 3
   },
   "file_extension": ".py",
   "mimetype": "text/x-python",
   "name": "python",
   "nbconvert_exporter": "python",
   "pygments_lexer": "ipython3",
   "version": "3.7.0"
  }
 },
 "nbformat": 4,
 "nbformat_minor": 2
}
