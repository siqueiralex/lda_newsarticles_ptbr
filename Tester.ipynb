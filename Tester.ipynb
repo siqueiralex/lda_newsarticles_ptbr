{
 "cells": [
  {
   "cell_type": "code",
   "execution_count": 2,
   "metadata": {},
   "outputs": [],
   "source": [
    "import Loader\n",
    "from PreProcessor import Preprocessor\n",
    "from gensim.corpora.dictionary import Dictionary\n",
    "from gensim.models.wrappers import LdaMallet"
   ]
  },
  {
   "cell_type": "markdown",
   "metadata": {},
   "source": [
    "### Load corpus"
   ]
  },
  {
   "cell_type": "code",
   "execution_count": 3,
   "metadata": {},
   "outputs": [],
   "source": [
    "corpus = Loader.load_from_folder(\"data\")"
   ]
  },
  {
   "cell_type": "code",
   "execution_count": 6,
   "metadata": {},
   "outputs": [
    {
     "data": {
      "text/plain": [
       "5741"
      ]
     },
     "execution_count": 6,
     "metadata": {},
     "output_type": "execute_result"
    }
   ],
   "source": [
    "len(corpus['articles'])"
   ]
  },
  {
   "cell_type": "markdown",
   "metadata": {},
   "source": [
    "### Pre-process and tokenize"
   ]
  },
  {
   "cell_type": "code",
   "execution_count": 4,
   "metadata": {},
   "outputs": [],
   "source": [
    "# alterei o pre_processor pra devolver tokenizado e não fazer steeming (mais fácil de visualizar)\n",
    "p = Preprocessor(lang='portuguese')\n",
    "pre_processed = p.transform(corpus['articles'])"
   ]
  },
  {
   "cell_type": "markdown",
   "metadata": {},
   "source": [
    "### Vectorize data "
   ]
  },
  {
   "cell_type": "code",
   "execution_count": 5,
   "metadata": {},
   "outputs": [],
   "source": [
    "common_dictionary = Dictionary(pre_processed)\n",
    "common_corpus = [common_dictionary.doc2bow(text) for text in pre_processed]"
   ]
  },
  {
   "cell_type": "markdown",
   "metadata": {},
   "source": [
    "### Apply model"
   ]
  },
  {
   "cell_type": "code",
   "execution_count": 10,
   "metadata": {},
   "outputs": [],
   "source": [
    "lda = LdaMallet('/Users/alex/mallet-2.0.8/bin/mallet',common_corpus, num_topics=100,id2word=common_dictionary, workers=8)"
   ]
  },
  {
   "cell_type": "code",
   "execution_count": 11,
   "metadata": {},
   "outputs": [
    {
     "data": {
      "text/plain": [
       "[(16,\n",
       "  '0.034*\"pmdb\" + 0.033*\"governador\" + 0.023*\"candidato\" + 0.020*\"partido\" + 0.018*\"psdb\" + 0.018*\"governo\" + 0.018*\"luiz\" + 0.017*\"presidente\" + 0.016*\"quercia\" + 0.015*\"antonio\"'),\n",
       " (3,\n",
       "  '0.022*\"show\" + 0.019*\"rock\" + 0.019*\"banda\" + 0.018*\"noite\" + 0.016*\"festival\" + 0.015*\"publico\" + 0.015*\"brasil\" + 0.014*\"bandeira\" + 0.012*\"shows\" + 0.011*\"hollywood\"'),\n",
       " (5,\n",
       "  '0.027*\"carro\" + 0.017*\"carros\" + 0.013*\"os\" + 0.012*\"veiculos\" + 0.011*\"modelo\" + 0.011*\"da\" + 0.009*\"motor\" + 0.009*\"importados\" + 0.008*\"modelos\" + 0.007*\"portas\"'),\n",
       " (96,\n",
       "  '0.054*\"justica\" + 0.025*\"federal\" + 0.025*\"tribunal\" + 0.022*\"acao\" + 0.021*\"prisao\" + 0.020*\"advogado\" + 0.019*\"contra\" + 0.016*\"pc\" + 0.016*\"juiz\" + 0.016*\"processo\"'),\n",
       " (28,\n",
       "  '0.035*\"eua\" + 0.035*\"clinton\" + 0.031*\"presidente\" + 0.020*\"washington\" + 0.019*\"de\" + 0.015*\"vai\" + 0.014*\"caso\" + 0.013*\"ontem\" + 0.012*\"governo\" + 0.011*\"bill\"'),\n",
       " (1,\n",
       "  '0.015*\"estado\" + 0.012*\"processo\" + 0.011*\"sistema\" + 0.010*\"nacional\" + 0.010*\"projeto\" + 0.009*\"reforma\" + 0.009*\"setor\" + 0.009*\"estrutura\" + 0.008*\"hoje\" + 0.008*\"recursos\"'),\n",
       " (92,\n",
       "  '0.039*\"sindicato\" + 0.039*\"cruz\" + 0.018*\"crime\" + 0.017*\"oswaldo\" + 0.016*\"junior\" + 0.014*\"silva\" + 0.013*\"presidente\" + 0.012*\"santo\" + 0.012*\"andre\" + 0.012*\"cut\"'),\n",
       " (77,\n",
       "  '0.030*\"futebol\" + 0.022*\"copa\" + 0.021*\"jogadores\" + 0.021*\"clube\" + 0.019*\"jogador\" + 0.019*\"time\" + 0.016*\"selecao\" + 0.015*\"santos\" + 0.014*\"tecnico\" + 0.013*\"campeonato\"'),\n",
       " (31,\n",
       "  '0.027*\"universidade\" + 0.022*\"escola\" + 0.020*\"educacao\" + 0.017*\"curso\" + 0.015*\"escolas\" + 0.014*\"criancas\" + 0.014*\"alunos\" + 0.014*\"professor\" + 0.013*\"usp\" + 0.013*\"ensino\"'),\n",
       " (38,\n",
       "  '0.037*\"carnaval\" + 0.021*\"rio\" + 0.020*\"da\" + 0.017*\"samba\" + 0.017*\"ingressos\" + 0.016*\"escolas\" + 0.014*\"grupo\" + 0.010*\"desfile\" + 0.010*\"mil\" + 0.009*\"especial\"')]"
      ]
     },
     "execution_count": 11,
     "metadata": {},
     "output_type": "execute_result"
    }
   ],
   "source": [
    "lda.show_topics()"
   ]
  },
  {
   "cell_type": "markdown",
   "metadata": {},
   "source": [
    "### Checking topic from a random document "
   ]
  },
  {
   "cell_type": "code",
   "execution_count": 14,
   "metadata": {},
   "outputs": [
    {
     "name": "stdout",
     "output_type": "stream",
     "text": [
      "Topic: 0.038*\"prefeitura\" + 0.031*\"prefeito\" + 0.023*\"maluf\" + 0.021*\"obras\" + 0.021*\"municipal\" + 0.020*\"meio\" + 0.019*\"secretario\" + 0.017*\"obra\" + 0.017*\"projeto\" + 0.016*\"ambiente\"\n",
      "Article:  Manifestantes que não moram na região da avenida foram à audiência para defender o projeto Da Reportagem Local A audiência pública realizada ontem na Secretaria Municipal do Verde e do Meio Ambiente com o objetivo de discutir a extensão da avenida Faria Lima foi marcada pelo tumulto. Cerca de 900 pessoas se manifestavam a favor e contra a obra, trocando acusações aos gritos, durante as cinco horas que ela durou, das 14h às 19h. A maior polêmica foi causada pelos cerca de 200 manifestantes que foram apoiar a obra. Eles participavam de movimentos de moradia da periferia da capital e afirmavam que estavam apoiando a obra porque ela vai melhorar o trânsito na cidade. Entre dez manifestantes ouvidos pela Folha, nenhum morava na área da avenida. O grupo contrário à obra acusava a prefeitura de trocar apoio ao projeto por benfeitorias nos bairros. Um dos coordenadores do grupo, Edson Lage, disse que os quatro ônibus que transportaram os manifestantes da periferia foram pagos por movimentos de moradia. A prefeitura nega a acusação. Foram apresentados outros argumentos pelos defensores do projeto: \"O pessoal que vai ter a casa demolida é rico. Quando eles vão escolher uma empregada eles sempre preferem as brancas, agora eles vão aprender a respeitar os pobres\", disse a empregada doméstica Maria Helena Alves de Lima. Na reunião foi lido o Rima (Relatório de Impacto Ambiental) da obra, que analisa as consequências que ela traz para o meio ambiente e para a população. A audiência é determinada por lei para obras que interfiram no meio ambiente. Seu caráter não é deliberativo. \"O objetivo foi discutir e receber sugestões\", diz Werner Zulauf, secretário do Verde e Meio Ambiente. O Rima será enviado para análise do Conselho Municipal do Meio Ambiente. Se for aprovado, vai para a Câmara. O relatório é uma das exigências da lei que ainda não foi cumprida, travando o projeto na Comissão de Justiça. Agora, os vereadores governistas podem aprovar o projeto ainda em fevereiro.(Luis Henrique Amaral) \n"
     ]
    }
   ],
   "source": [
    "from random import randint\n",
    "doc_number = randint(0, len(corpus['articles'])-1)\n",
    "test_topics = lda[common_corpus[doc_number]]\n",
    "test_topics.sort(key=lambda x: x[1], reverse=True)\n",
    "print(\"Topic:\",lda.print_topic(test_topics[0][0]))\n",
    "print(\"Article:\", corpus['articles'][doc_number])\n"
   ]
  },
  {
   "cell_type": "code",
   "execution_count": 15,
   "metadata": {},
   "outputs": [
    {
     "data": {
      "text/plain": [
       "datetime.datetime(1994, 1, 27, 0, 0)"
      ]
     },
     "execution_count": 15,
     "metadata": {},
     "output_type": "execute_result"
    }
   ],
   "source": [
    "corpus['dates'][doc_number]"
   ]
  },
  {
   "cell_type": "code",
   "execution_count": 17,
   "metadata": {},
   "outputs": [
    {
     "name": "stdout",
     "output_type": "stream",
     "text": [
      "['manifestantes', 'moram', 'regiao', 'avenida', 'audiencia', 'defender', 'projeto', 'da', 'reportagem', 'local', 'audiencia', 'publica', 'realizada', 'ontem', 'secretaria', 'municipal', 'verde', 'meio', 'ambiente', 'objetivo', 'discutir', 'extensao', 'avenida', 'faria', 'lima', 'marcada', 'tumulto', 'cerca', 'pessoas', 'manifestavam', 'favor', 'contra', 'obra', 'trocando', 'acusacoes', 'gritos', 'durante', 'cinco', 'horas', 'durou', 'maior', 'polemica', 'causada', 'cerca', 'manifestantes', 'apoiar', 'obra', 'eles', 'participavam', 'movimentos', 'moradia', 'periferia', 'capital', 'afirmavam', 'apoiando', 'obra', 'porque', 'vai', 'melhorar', 'transito', 'cidade', 'entre', 'dez', 'manifestantes', 'ouvidos', 'folha', 'nenhum', 'morava', 'area', 'avenida', 'grupo', 'contrario', 'obra', 'acusava', 'prefeitura', 'trocar', 'apoio', 'projeto', 'benfeitorias', 'bairros', 'um', 'coordenadores', 'grupo', 'edson', 'lage', 'disse', 'quatro', 'onibus', 'transportaram', 'manifestantes', 'periferia', 'pagos', 'movimentos', 'moradia', 'prefeitura', 'nega', 'acusacao', 'foram', 'apresentados', 'outros', 'argumentos', 'defensores', 'projeto', 'pessoal', 'vai', 'ter', 'casa', 'demolida', 'rico', 'quando', 'vao', 'escolher', 'empregada', 'sempre', 'preferem', 'brancas', 'agora', 'vao', 'aprender', 'respeitar', 'pobres', 'disse', 'empregada', 'domestica', 'maria', 'helena', 'alves', 'lima', 'na', 'reuniao', 'lido', 'rima', 'relatorio', 'impacto', 'ambiental', 'obra', 'analisa', 'consequencias', 'traz', 'meio', 'ambiente', 'populacao', 'audiencia', 'determinada', 'lei', 'obras', 'interfiram', 'meio', 'ambiente', 'seu', 'carater', 'deliberativo', 'objetivo', 'discutir', 'receber', 'sugestoes', 'diz', 'werner', 'zulauf', 'secretario', 'verde', 'meio', 'ambiente', 'rima', 'enviado', 'analise', 'conselho', 'municipal', 'meio', 'ambiente', 'se', 'aprovado', 'vai', 'camara', 'relatorio', 'exigencias', 'lei', 'ainda', 'cumprida', 'travando', 'projeto', 'comissao', 'justica', 'agora', 'vereadores', 'governistas', 'podem', 'aprovar', 'projeto', 'ainda', 'fevereiro', 'luis', 'henrique', 'amaral']\n"
     ]
    }
   ],
   "source": [
    "# aproveitar pra conferir o pre_processamento\n",
    "print(pre_processed[doc_number])"
   ]
  },
  {
   "cell_type": "code",
   "execution_count": 66,
   "metadata": {},
   "outputs": [],
   "source": []
  },
  {
   "cell_type": "code",
   "execution_count": null,
   "metadata": {},
   "outputs": [],
   "source": []
  }
 ],
 "metadata": {
  "kernelspec": {
   "display_name": "Python 3",
   "language": "python",
   "name": "python3"
  },
  "language_info": {
   "codemirror_mode": {
    "name": "ipython",
    "version": 3
   },
   "file_extension": ".py",
   "mimetype": "text/x-python",
   "name": "python",
   "nbconvert_exporter": "python",
   "pygments_lexer": "ipython3",
   "version": "3.7.0"
  }
 },
 "nbformat": 4,
 "nbformat_minor": 2
}
