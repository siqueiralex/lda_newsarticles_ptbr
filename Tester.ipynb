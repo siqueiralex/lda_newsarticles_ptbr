{
 "cells": [
  {
   "cell_type": "code",
   "execution_count": 1,
   "metadata": {},
   "outputs": [],
   "source": [
    "import Loader\n",
    "from PreProcessor import Preprocessor\n",
    "from DocumentRetriever import DocumentRetriever\n",
    "from gensim.corpora.dictionary import Dictionary\n",
    "from gensim.models.wrappers import LdaMallet"
   ]
  },
  {
   "cell_type": "markdown",
   "metadata": {},
   "source": [
    "### Load corpus"
   ]
  },
  {
   "cell_type": "code",
   "execution_count": 2,
   "metadata": {},
   "outputs": [],
   "source": [
    "corpus = Loader.load_from_folder(\"data\")"
   ]
  },
  {
   "cell_type": "code",
   "execution_count": 3,
   "metadata": {},
   "outputs": [
    {
     "data": {
      "text/plain": [
       "5741"
      ]
     },
     "execution_count": 3,
     "metadata": {},
     "output_type": "execute_result"
    }
   ],
   "source": [
    "len(corpus['articles'])"
   ]
  },
  {
   "cell_type": "markdown",
   "metadata": {},
   "source": [
    "### Pre-process and tokenize"
   ]
  },
  {
   "cell_type": "code",
   "execution_count": 4,
   "metadata": {},
   "outputs": [],
   "source": [
    "# alterei o pre_processor pra devolver tokenizado e não fazer steeming (mais fácil de visualizar)\n",
    "p = Preprocessor(lang='portuguese')\n",
    "pre_processed = p.transform(corpus['articles'])"
   ]
  },
  {
   "cell_type": "markdown",
   "metadata": {},
   "source": [
    "### Vectorize data "
   ]
  },
  {
   "cell_type": "code",
   "execution_count": 5,
   "metadata": {},
   "outputs": [],
   "source": [
    "common_dictionary = Dictionary(pre_processed)\n",
    "common_corpus = [common_dictionary.doc2bow(text) for text in pre_processed]"
   ]
  },
  {
   "cell_type": "markdown",
   "metadata": {},
   "source": [
    "### Apply model"
   ]
  },
  {
   "cell_type": "code",
   "execution_count": 6,
   "metadata": {},
   "outputs": [],
   "source": [
    "lda = LdaMallet('/Users/alex/mallet-2.0.8/bin/mallet',common_corpus, num_topics=100,id2word=common_dictionary, workers=8)"
   ]
  },
  {
   "cell_type": "code",
   "execution_count": 7,
   "metadata": {},
   "outputs": [
    {
     "data": {
      "text/plain": [
       "[(18,\n",
       "  '0.101*\"milhoes\" + 0.048*\"empresa\" + 0.026*\"ano\" + 0.024*\"grupo\" + 0.013*\"acoes\" + 0.013*\"mil\" + 0.013*\"capital\" + 0.011*\"da\" + 0.011*\"venda\" + 0.011*\"maior\"'),\n",
       " (76,\n",
       "  '0.043*\"inflacao\" + 0.032*\"urv\" + 0.026*\"plano\" + 0.025*\"precos\" + 0.025*\"governo\" + 0.016*\"fhc\" + 0.013*\"economica\" + 0.013*\"conversao\" + 0.012*\"real\" + 0.012*\"fazenda\"'),\n",
       " (39,\n",
       "  '0.039*\"ser\" + 0.015*\"sistema\" + 0.013*\"atraves\" + 0.012*\"controle\" + 0.011*\"poder\" + 0.011*\"processo\" + 0.010*\"mudancas\" + 0.009*\"projeto\" + 0.009*\"deve\" + 0.008*\"atual\"'),\n",
       " (40,\n",
       "  '0.057*\"mercado\" + 0.034*\"setor\" + 0.030*\"producao\" + 0.028*\"industria\" + 0.018*\"empresas\" + 0.017*\"produtos\" + 0.011*\"industrias\" + 0.011*\"nacional\" + 0.010*\"industrial\" + 0.009*\"vendas\"'),\n",
       " (27,\n",
       "  '0.020*\"todos\" + 0.015*\"pois\" + 0.014*\"assim\" + 0.012*\"porem\" + 0.012*\"tao\" + 0.011*\"se\" + 0.011*\"alguns\" + 0.010*\"caso\" + 0.009*\"tempo\" + 0.009*\"parte\"'),\n",
       " (58,\n",
       "  '0.087*\"ministro\" + 0.059*\"presidente\" + 0.050*\"governo\" + 0.042*\"itamar\" + 0.038*\"fernando\" + 0.033*\"henrique\" + 0.027*\"franco\" + 0.022*\"brasilia\" + 0.021*\"fazenda\" + 0.021*\"cardoso\"'),\n",
       " (69,\n",
       "  '0.028*\"rua\" + 0.023*\"avenida\" + 0.020*\"onibus\" + 0.020*\"local\" + 0.018*\"centro\" + 0.016*\"zona\" + 0.014*\"regiao\" + 0.014*\"transito\" + 0.012*\"metro\" + 0.012*\"cidade\"'),\n",
       " (77,\n",
       "  '0.018*\"governo\" + 0.017*\"pais\" + 0.015*\"nacional\" + 0.015*\"exercito\" + 0.013*\"sul\" + 0.012*\"internacionais\" + 0.011*\"contra\" + 0.011*\"mexico\" + 0.011*\"chiapas\" + 0.011*\"estado\"'),\n",
       " (86,\n",
       "  '0.031*\"mas\" + 0.030*\"bem\" + 0.023*\"melhor\" + 0.022*\"nao\" + 0.019*\"porque\" + 0.018*\"gente\" + 0.017*\"sempre\" + 0.014*\"nada\" + 0.014*\"assim\" + 0.013*\"pouco\"'),\n",
       " (59,\n",
       "  '0.036*\"cr\" + 0.034*\"dia\" + 0.032*\"mercado\" + 0.029*\"dolar\" + 0.021*\"mes\" + 0.020*\"ontem\" + 0.019*\"contra\" + 0.019*\"pontos\" + 0.018*\"anterior\" + 0.017*\"compra\"')]"
      ]
     },
     "execution_count": 7,
     "metadata": {},
     "output_type": "execute_result"
    }
   ],
   "source": [
    "lda.show_topics()"
   ]
  },
  {
   "cell_type": "markdown",
   "metadata": {},
   "source": [
    "### Checking topic from a random document "
   ]
  },
  {
   "cell_type": "code",
   "execution_count": 16,
   "metadata": {},
   "outputs": [
    {
     "name": "stdout",
     "output_type": "stream",
     "text": [
      "Topic: 0.040*\"folha\" + 0.031*\"jornal\" + 0.024*\"sobre\" + 0.014*\"imprensa\" + 0.013*\"ainda\" + 0.011*\"dia\" + 0.011*\"jornais\" + 0.010*\"contra\" + 0.010*\"leitor\" + 0.009*\"carta\"\n",
      "Article:  JUNIA NOGUEIRA DE SÁ A dúvida é velha: até que ponto se pode mesmo acreditar na imprensa? Vejamos: na quarta-feira a Folha publicou a história do bancário Paulo Sérgio do Espírito Santo, acusado de abusar sexualmente de meninos. Em seu depoimento, o rapaz admitiu ter feito sexo anal com 80 garotos e disse manter \"relações amigáveis\" com outros 150, informou a  Folha. Ele teria ainda um diário com 600 nomes anotados. No mesmo dia, o carioca \"O Globo\" publicou reportagem sobre o caso com o título \"Tarado confessa relações com 150\". O jornal dizia que o bancário mantinha em sua casa um diário com 560 nomes. Em \"O Estado de S.Paulo\", o diário teria 570 nomes de garotos, todos eles aliciados pelo rapaz. Na \"Folha da Tarde\" os nomes eram pelo menos 580. No \"Jornal do Brasil\", exatos 605. Não foi só isso. Na terça-feira, enquanto todos os jornais davam como 24 os mortos no balanço preliminar do terremoto em Los Angeles, \"O Globo\" afirmava que eles seriam 22. Na quarta, os prejuízos somavam entre US$ 3 bilhões e US$ 7 bilhões na \"Gazeta Mercantil\", mais de US$ 7 bilhões na Folha e \"Estado\" e subiam a US$ 10 bilhões no \"Globo\". Diferenças consideráveis. Mas elas não passaram a semana apenas nos números. Na quinta-feira, os jornais noticiaram a morte de um engenheiro italiano na zona norte de São Paulo, baleado durante um assalto. Segundo a Folha, Giorgio de Kunovich foi abordado por dois ladrões, atracou-se com eles e levou quatro tiros. Para o \"Estado\", o homem não falava português direito, não entendeu as ameaças, ofereceu dinheiro aos ladrões e foi baleado. Na noite anterior, o telejornal \"SP Já\", da Rede Globo, informara que o engenheiro falava bem o português e tentava negociar com os ladrões a troca do carro por dinheiro quando foi baleado. Como a história sumiu do noticiário, ficaram as dúvidas. Casos de polícia, uma leitura dos jornais revela, são aqueles onde aparecem mais contradições. Na quinta-feira, a Folha noticiou o ataque a um carro-forte no quilômetro 44 da rodovia Rio-Santos, no Rio, quando 15 homens levaram um valor que a empresa Brinks não revelou ao jornal. No \"Globo\", os assaltantes eram nove, atacaram no quilômetro 46 e levaram CR$ 14 milhões. No \"Estado\", eles eram cerca de 10 e deram menos sorte: levaram só CR$ 2,5 milhões. O leitor que chegou até aqui pode estar se perguntando os motivos de o assunto ter sido eleito pela ombudsman na semana em quem a CPI encerrou seus trabalhos, o ministro Fernando Henrique Cardoso finalmente admitiu que pode ser candidato ao Planalto, batendo boca com Lula pelos jornais, e a revisão constitucional decolou. A razão é essa mesma: o noticiário está cheio de fatos importantes, que merecem ser tratados como fatos, e não como versões. Num país em que a imprensa não se entende nem sobre dados objetivos, fica fácil para qualquer um fazer o que fez FHC na semana passada: deu entrevistas a torto e a direito criticando Lula, o PT e sua falta de programa, e depois disse que não disse o que disse. A imprensa se calou diante das negativas do ministro falastrão, como que assumindo a culpa de ter dito que o ministro disse o que ele dizia agora que não disse. O que se pode inferir, com esses exemplos propositadamente menores colhidos ao longo de apenas três dias, é que os jornais não estão informando direito seu leitor. Que cada um tenha sua linha editorial, suas preferências pessoais, eventualmente até seus amigos do peito (desde que isso fique muito claro para o leitor), é ainda tolerável. Mas que eles tenham divergências sobre dados objetivos, é inaceitável. Se um jornal não dá conta de saber quantos eram exatamente os nomes do diário do bancário Espírito Santo, como acreditar que sua tabela de rendimentos para a poupança está correta, ou que a transcrição do discurso do presidente da República é fiel? Difícil. Mais uma vez, o que se pode inferir, com esses exemplos colhidos ao longo de apenas três dias, é que a imprensa tem muito ainda que avançar na sua objetividade antes de se render à máxima que diz que não existem jornais objetivos. Fazer bom jornalismo pressupõe procurar a verdade o tempo todo, mesmo que ela esteja na publicação pura e simples, perdida no meio de um volume imenso de outras informações, do montante levado por ladrões no assalto a um carro-forte. Os jornais estão longe de mostrar obsessão na busca dessas pequenas verdades cotidianas, o que permite desconfiar deles quando se dizem comprometidos com a apuração total e completa das verdades maiores. Assim, é justo que o leitor pense que ler apenas um jornal pode ser insuficiente para se informar direito, mas ler dois já representa um perigo para sua sanidade mental. Nessa equação do um é pouco, dois é demais, o resultado pode ser a subtração de credibilidade da imprensa. Porque a única coisa que o leitor quer é um jornal que não manipule a verdade, tenha ela o tamanho que tiver.  JUNIA NOGUEIRA DE SÁ é a ombudsman da Folha. A ombudsman tem mandato de um ano, renovável por mais um ano. Ela não pode ser demitida durante o exercício do cargo e tem estabilidade por um ano após o exercício da função. Suas atribuições são criticar o jornal sob a perspectiva do leitor recebendo e checando as reclamações que ele encaminha à Redação e comentar, aos domingos, o noticiário dos meios de comunicação. Cartas devem ser enviadas para a al. Barão de Limeira, 425, 8.º andar, São Paulo (SP), CEP 01202-001, a.c. Junia Nogueira de Sá/Ombudsman. Para contatos telefônicos, ligue (011) 224-3896 entre 14h e 18h, de segunda a sexta-feira. \n"
     ]
    }
   ],
   "source": [
    "from random import randint\n",
    "doc_number = randint(0, len(corpus['articles'])-1)\n",
    "test_topics = lda[common_corpus[doc_number]]\n",
    "topics = []\n",
    "for top in test_topics:\n",
    "    topics.append(top[1])\n",
    "test_topics.sort(key=lambda x: x[1], reverse=True)\n",
    "print(\"Topic:\",lda.print_topic(test_topics[0][0]))\n",
    "print(\"Article:\", corpus['articles'][doc_number])\n"
   ]
  },
  {
   "cell_type": "markdown",
   "metadata": {},
   "source": [
    "### Retrieving Similar Documents "
   ]
  },
  {
   "cell_type": "code",
   "execution_count": 17,
   "metadata": {},
   "outputs": [
    {
     "name": "stdout",
     "output_type": "stream",
     "text": [
      "SIMILAR:  JUNIA NOGUEIRA DE SÁ A dúvida é velha: até que ponto se pode mesmo acreditar na imprensa? Vejamos: na quarta-feira a Folha publicou a história do bancário Paulo Sérgio do Espírito Santo, acusado de abusar sexualmente de meninos. Em seu depoimento, o rapaz admitiu ter feito sexo anal com 80 garotos e disse manter \"relações amigáveis\" com outros 150, informou a  Folha. Ele teria ainda um diário com 600 nomes anotados. No mesmo dia, o carioca \"O Globo\" publicou reportagem sobre o caso com o título \"Tarado confessa relações com 150\". O jornal dizia que o bancário mantinha em sua casa um diário com 560 nomes. Em \"O Estado de S.Paulo\", o diário teria 570 nomes de garotos, todos eles aliciados pelo rapaz. Na \"Folha da Tarde\" os nomes eram pelo menos 580. No \"Jornal do Brasil\", exatos 605. Não foi só isso. Na terça-feira, enquanto todos os jornais davam como 24 os mortos no balanço preliminar do terremoto em Los Angeles, \"O Globo\" afirmava que eles seriam 22. Na quarta, os prejuízos somavam entre US$ 3 bilhões e US$ 7 bilhões na \"Gazeta Mercantil\", mais de US$ 7 bilhões na Folha e \"Estado\" e subiam a US$ 10 bilhões no \"Globo\". Diferenças consideráveis. Mas elas não passaram a semana apenas nos números. Na quinta-feira, os jornais noticiaram a morte de um engenheiro italiano na zona norte de São Paulo, baleado durante um assalto. Segundo a Folha, Giorgio de Kunovich foi abordado por dois ladrões, atracou-se com eles e levou quatro tiros. Para o \"Estado\", o homem não falava português direito, não entendeu as ameaças, ofereceu dinheiro aos ladrões e foi baleado. Na noite anterior, o telejornal \"SP Já\", da Rede Globo, informara que o engenheiro falava bem o português e tentava negociar com os ladrões a troca do carro por dinheiro quando foi baleado. Como a história sumiu do noticiário, ficaram as dúvidas. Casos de polícia, uma leitura dos jornais revela, são aqueles onde aparecem mais contradições. Na quinta-feira, a Folha noticiou o ataque a um carro-forte no quilômetro 44 da rodovia Rio-Santos, no Rio, quando 15 homens levaram um valor que a empresa Brinks não revelou ao jornal. No \"Globo\", os assaltantes eram nove, atacaram no quilômetro 46 e levaram CR$ 14 milhões. No \"Estado\", eles eram cerca de 10 e deram menos sorte: levaram só CR$ 2,5 milhões. O leitor que chegou até aqui pode estar se perguntando os motivos de o assunto ter sido eleito pela ombudsman na semana em quem a CPI encerrou seus trabalhos, o ministro Fernando Henrique Cardoso finalmente admitiu que pode ser candidato ao Planalto, batendo boca com Lula pelos jornais, e a revisão constitucional decolou. A razão é essa mesma: o noticiário está cheio de fatos importantes, que merecem ser tratados como fatos, e não como versões. Num país em que a imprensa não se entende nem sobre dados objetivos, fica fácil para qualquer um fazer o que fez FHC na semana passada: deu entrevistas a torto e a direito criticando Lula, o PT e sua falta de programa, e depois disse que não disse o que disse. A imprensa se calou diante das negativas do ministro falastrão, como que assumindo a culpa de ter dito que o ministro disse o que ele dizia agora que não disse. O que se pode inferir, com esses exemplos propositadamente menores colhidos ao longo de apenas três dias, é que os jornais não estão informando direito seu leitor. Que cada um tenha sua linha editorial, suas preferências pessoais, eventualmente até seus amigos do peito (desde que isso fique muito claro para o leitor), é ainda tolerável. Mas que eles tenham divergências sobre dados objetivos, é inaceitável. Se um jornal não dá conta de saber quantos eram exatamente os nomes do diário do bancário Espírito Santo, como acreditar que sua tabela de rendimentos para a poupança está correta, ou que a transcrição do discurso do presidente da República é fiel? Difícil. Mais uma vez, o que se pode inferir, com esses exemplos colhidos ao longo de apenas três dias, é que a imprensa tem muito ainda que avançar na sua objetividade antes de se render à máxima que diz que não existem jornais objetivos. Fazer bom jornalismo pressupõe procurar a verdade o tempo todo, mesmo que ela esteja na publicação pura e simples, perdida no meio de um volume imenso de outras informações, do montante levado por ladrões no assalto a um carro-forte. Os jornais estão longe de mostrar obsessão na busca dessas pequenas verdades cotidianas, o que permite desconfiar deles quando se dizem comprometidos com a apuração total e completa das verdades maiores. Assim, é justo que o leitor pense que ler apenas um jornal pode ser insuficiente para se informar direito, mas ler dois já representa um perigo para sua sanidade mental. Nessa equação do um é pouco, dois é demais, o resultado pode ser a subtração de credibilidade da imprensa. Porque a única coisa que o leitor quer é um jornal que não manipule a verdade, tenha ela o tamanho que tiver.  JUNIA NOGUEIRA DE SÁ é a ombudsman da Folha. A ombudsman tem mandato de um ano, renovável por mais um ano. Ela não pode ser demitida durante o exercício do cargo e tem estabilidade por um ano após o exercício da função. Suas atribuições são criticar o jornal sob a perspectiva do leitor recebendo e checando as reclamações que ele encaminha à Redação e comentar, aos domingos, o noticiário dos meios de comunicação. Cartas devem ser enviadas para a al. Barão de Limeira, 425, 8.º andar, São Paulo (SP), CEP 01202-001, a.c. Junia Nogueira de Sá/Ombudsman. Para contatos telefônicos, ligue (011) 224-3896 entre 14h e 18h, de segunda a sexta-feira. \n",
      "SIMILAR:  JUNIA NOGUEIRA DE SÁ Pelo menos para esta ombudsman, a campanha presidencial já começou e como. Na semana passada, foram oito os protestos contra dois artigos assinados pelo jornalista Carlos Heitor Cony nas edições de quarta e quinta-feira, na página 1-2 da Folha. Nas duas ocasiões, ele se ocupou de criticar Lula, a proximidade entre seu partido e a CUT, e escreveu: \"O PT, como aparelho partidário apoiado no aparelho sindical da CUT, tende a repetir exemplos pouco edificantes (como o) do Partido Nazista, que, depois de um passado arruaceiro, chegou ao poder democraticamente\". Isso bastou para que simpatizantes da candidatura de Lula (perguntei; todos confirmaram) telefonassem irados e fizessem seus protestos. \"Depois dessa campanha que a imprensa vem fazendo contra o Lula, agora sim é que eu vou votar nele\", afirmou um estudante de São Paulo. \"A elite está com medo dos 30% que o Lula tem nas pesquisas. Já viu que não vai ter para o seu candidato, Fernando Henrique Cardoso, e começou a apelar\", disse um professor universitário do interior paulista, que ainda fez questão de cantar ao telefone: \"Lula-lá\". Cony é um jornalista conhecido, de opiniões bem lidas, a quem o jornal reservou um lugar nobre nas edições diárias. Pode escrever o que quiser naquele espaço sem sofrer restrições da Redação, menos por tudo isso do que pelo compromisso da  Folha com ele e com mais de 2 milhões de leitores. Cony é um colunista de temas variados: analisa as chances do plano econômico de FHC num dia para, no outro, rabiscar uma crônica carregada de lirismo sobre o seu Rio de Janeiro. Não surpreende, portanto, que tenha decidido criticar o PT e seu envolvimento com a CUT. Mas ao contrário do que me pediram os leitores irados, não vou comentar as opiniões expressas nos artigos de Cony. Aceitei o cargo de ombudsman da Folha porque, entre outras coisas, concordo integralmente com sua proposta de ser um jornal pluralista. Está escrito na página 20 do Novo Manual da Redação: \"Numa sociedade complexa, todo fato se presta a interpretações múltiplas, quando não antagônicas. O leitor da  Folha deve ter assegurado seu direito de acesso a todas elas. Todas as tendências ideológicas expressivas da sociedade devem estar representadas no jornal\". Assino embaixo. Mesmo que não concorde com algumas idéias veiculadas pelo jornal, minha tarefa hoje é zelar para que opiniões divergentes encontrem a mesma acolhida. Em defesa do direito do leitor de ser corretamente informado.  Várias vezes já recebi, por telefone ou carta, protestos de leitores da Folha que não toleram ver artigos de Fernando Collor de Mello ou Emílio Odebrecht no jornal, ou ainda pedem a cabeça de colunistas como José Sarney, Delfim Netto, Antônio Ermírio de Moraes e Gilberto Dimenstein, ou Joyce Pascowitch, Barbara Gancia e, agora, Cony. Para esses leitores, a Folha deveria vetar nomes, impedir que alguns manifestassem suas idéias nestas páginas, bloquear seu acesso ao público. Em uma palavra, o que esses leitores defendem é a censura, pura e simples, de opiniões com as quais não concordam no jornal que escolheram como seu meio de informação. E convocam a ajuda da ombudsman para tanto. Pode parecer paradoxal mas é pior que isso: é perigoso. Se a  Folha se permitir censurar um artigo de Collor, por exemplo, porque não concorda com o que está escrito ali ou guarda rancor pelo processo que o ex-presidente moveu contra quatro jornalistas da casa, ela ganha argumentos imediatamente para censurar os escritos de Lula, de Betinho, do papa, da madre Teresa de Calcutá e todo o resto do planeta. Incluindo aí os leitores e suas cartas enviadas ao Painel do Leitor. Em vez disso, a Folha tem tentado fazer seu jornalismo pluralista e, a julgar pelas reações de leitores como os que telefonaram na semana passada, está conseguindo. O jornal ainda é deficiente em muitas áreas. Publica muitos erros, às vezes se esquece de ouvir o \"outro lado\", seu texto médio precisa melhorar muito, suas legendas tendem ao óbvio, sua cobertura dos fatos não é 100% etc, etc, etc. Mas não se pode dizer que exista no Brasil um jornal mais aberto a idéias, e que reserve mais páginas para publicá-las, venham de quem vierem. Num ano eleitoral (e não só nele, claro), os leitores deveriam se sentir aliviados por saber que seu jornal está comprometido com a divulgação do maior leque possível de opiniões. Para aqueles que discordam delas, o caminho é escrever ao Painel do Leitor. Concordo com os que reclamam que seu espaço nessa seção tem sido frequentemente ocupado por cartas que respondem reportagens e artigos da Folha, e o Painel do Leitor tem sido mais um \"Painel dos Notáveis com Direito de Resposta\" do que dos leitores propriamente ditos. Mas essa é também uma boa briga com a qual a ombudsman já se comprometeu, e este é o ano ideal para levá-la em frente. Nada, portanto, justifica a censura às opiniões de quem quer que seja no jornal. A imprensa livre foi uma conquista dura, uma longa batalha que não pode ser esquecida. Você, leitor, discorda do que disse Cony, outro colunista qualquer, esta ombudsman? Escreva para o  Painel do Leitor. Você também tem o direito de manifestar sua opinião na Folha. Tenha certeza de que, em nome do pluralismo, esta ombudsman vai defender a publicação de sua carta. E ninguém, tenha certeza também, vai censurá-la.  JUNIA NOGUEIRA DE SÁ é a ombudsman da Folha. A ombudsman tem mandato de um ano, renovável por mais um ano. Ela não pode ser demitida durante o exercício do cargo e tem estabilidade por um ano após o exercício da função. Suas atribuições são criticar o jornal sob a perspectiva do leitor recebendo e checando as reclamações que ele encaminha à Redação e comentar, aos domingos, o noticiário dos meios de comunicação. Cartas devem ser enviadas para a al. Barão de Limeira, 425, 8.º andar, São Paulo (SP), CEP 01202-001, a.c. Junia Nogueira de Sá/Ombudsman. Para contatos telefônicos, ligue (011) 224-3896 entre 14h e 18h, de segunda a sexta-feira. \n",
      "SIMILAR:  \"Foi das coisas mais insensíveis que já li no jornal\", disse um leitor de São Paulo. \"Zagalo tripudiou sobre a dor de quem vive essa tragédia e o jornal ainda garantiu a ele espaço na Primeira Página.\" Protesto semelhante havia sido feito na crítica interna que assinei na terça-feira, quando afirmei que esperava ver a Folha comentar a frase mais infeliz da semana numa de suas próximas edições. Foi em vão. Na quinta-feira, ela voltou a aparecer na capa do caderno de Turismo , assumida pelo jornal ou seja, sem a referência a Zagalo, como se fosse idéia própria da  Folha. Continuo achando lamentável. * Na sexta-feira, o jornal deu 10 páginas para o caderno especial Superescândalo, que fez um balanço competente porém extenso dos trabalhos da CPI do Orçamento. No mesmo dia, a editoria de Cotidiano emagreceu terrivelmente e circulou com quatro páginas, ainda recheadas de anúncios. Transcrevo aqui o comentário feito pela ombudsman na crítica interna daquele dia: \"Do ponto de vista do leitor, acho que essas trocas são ruins. Vários deles já me disseram (ou escreveram) que quando o jornal dá alguma coisa, não deveria tirar outra. Eles se sentem lesados. Foi exatamente o que a Folha fez hoje.\" Espero que o alerta valha para uma próxima vez. * Os leitores que comentaram uma nota da semana passada (que pedia opiniões sobre se o jornal incentivou a especulação quando revelou que aplicar na poupança renderia mais do que o desconto do IPVA em São Paulo) foram unânimes em apoiar a Folha. \"Enquanto prevalecerem a desestabilização (da economia) e o casuísmo, resta ao cidadão o apoio da imprensa descomprometida e das entidades representativas da sociedade no sentido de, pelo menos, orientá-lo para que ele seja menos agredido\", escreveu Antonio Corrêa de Lacerda, de São Paulo. Concluo, com a ajuda desses leitores, que a Folha fez o que eles esperavam de um bom jornal. \n",
      "SIMILAR:  \"Agradeço a presteza da publicação da carta (Painel do Leitor, 31/12). Lamento, mas o jornalista Dimenstein foi quem não entendeu a questão. Discordei da sua confiança na apuração da corrupção e argumentei com o silêncio sobre a empreiteira denunciada, na Folha, com um plano de abordagem de parlamentares, para o Orçamento e também para a revisão da Constituição. Com sua preocupação com a educação, a fome etc... eu concordei, embora discorde de sua crítica à nova fase da campanha do Betinho, pelo emprego. Abri o Fórum da UFRJ a esses temas, logo não foi justa sua resposta cobrando-me isso e eximindo-se de responder sobre o prazo da CPI atropelar a apuração.\" Luiz Pinguelli Rosa, coordenador do Fórum da Universidade Federal do Rio de Janeiro (Rio de Janeiro, RJ)  Declarações \"Em 1/10/93, V.Sas., à pág. 3-9, publicaram notícia sob o título 'Movimento quer cassar arquiteto', a qual, tendo me atingido diretamente, fez com que adotasse eu as providências necessárias junto ao sr. Roberto Israel Eisenberg Saruê, a quem foram atribuídas as declarações reproduzidas por esse jornal. O interpelado, em resposta, disse que 'jamais me animou propositadamente desconsiderar a sua pessoa, contra cuja honorabilidade nada tenho a reparar', e, mais adiante, 'jamais nos animando, no entanto, pôr em dúvida a capacidade profissional e a idoneidade pessoal de quem quer que seja, em especial profissional do seu gabarito e méritos', tendo salientado, também, que houve equívoco do jornal ao reproduzir as suas palavras, posto que o aspecto por ele enfatizado foi o de o Movimento Defenda São Paulo, do qual é presidente, pleitear a cassação do projeto de minha autoria, objetivado na matéria veiculada, e não o meu registro no Crea. Peço-lhe a divulgação do acima exposto, com o mesmo destaque da notícia, para que os que a tenham lido tomem conhecimento também do novo pronunciamento do arquiteto Roberto Saruê, afirmando o equívoco da notícia e efetuando ressalvas quanto à minha honorabilidade pessoal e profissional.\" Júlio Neves, arquiteto (São Paulo, SP)  Nota da Redação  As declarações de Roberto Israel Eisenberg Saruê à Folha estão gravadas.  Sorriso que incomoda \"Ao ver a fotografia do ministro FHC sorrindo ao lado de uma 'drag queen', lembrei-me do Betinho querendo amenizar o sofrimento e a fome dos miseráveis enquanto o governo cria e aumenta impostos. Cabe-nos imitar o poeta sambista e pedir ao feliz ministro: 'Tira o teu sorriso do caminho, que eu quero passar com a minha dor'.\" José Martins Pedreiro (Jales, SP) \n",
      "SIMILAR:  \"Gostaria de congratular a todos que tomaram parte na elaboração não só do texto (Caio Túlio Costa) como também da idéia de homenagear o jogador Romário na Revista da Folha do último domingo de 93. O que o país precisa é disso mesmo: o reconhecimento das pessoas honestas e trabalhadoras desta nação. O exemplo não poderia vir em melhor hora, porque afinal de contas não é justo que pessoas corruptas ocupem todas as manchetes principais do Brasil. Devemos reconhecer o trabalho de todos aqueles que têm orgulho de serem brasileiros e lutam para que esse país seja reconhecido internacionalmente como algo além de injustiça, extermínio e corrupção.\" Melanie Vanessa Camargo Francis (São Paulo, SP)  Agradecimento a Betinho \"Em nome dos moradores da favela Agua Funda, agradeço ao companheiro Betinho por proporcionar a alegria de centenas de famílias carentes ao receberem uma cesta básica de alimentos, entregues no dia 31/12/93.\" José Unaldo Santos (São Paulo, SP)  Controle da natalidade \"Um adendo à opinião de Jorge Balleeiro de Lacerda e Francisco Beltrão ('Santificação de Betinho', Painel do Leitor, 4/01), com a qual concordo. Além das ramificações do problema da fome citados, não podemos esquecer da ramificação, deliberada e sistematicamente ignorada, não apenas pelas forças conservadoras como também pelas ditas 'progressistas': o urgente, eficiente e consciente controle de natalidade.\" Eva. C. Belezia (São Paulo, SP)  Miopia sociológica \"Toda Bahia ficou estarrecida e os antepassados anarquistas de Zélia Gattai se reviraram no túmulo com a página inteira de bajulação e miopia sociológica da esposa de Jorge Amado, 'encantada' com a administração ACM. Se refletirmos bem, o casal Amado-Gattai há muito fez sua opção preferencial pelos ricos e poderosos do Primeiro e Terceiro Mundos: todos os movimentos populares, de negros, homossexuais e mulheres, têm sérias críticas à forma preconceituosa como são tratados pelo casal amigo do governador da Bahia. Aliás, não seria tempo da Casa Jorge Amado tirar da parede o 'Prêmio Stalin' recebido pelo romancista no tempo que ainda era comunista?\" Voltaire Bispo dos Santos (Salvador, BA) \n"
     ]
    }
   ],
   "source": [
    "dr = DocumentRetriever(lda.fdoctopics())\n",
    "most_similar = dr.n_most_similar(topics, n=5)\n",
    "for similar in most_similar:\n",
    "    print(\"SIMILAR:\", corpus['articles'][similar])"
   ]
  },
  {
   "cell_type": "code",
   "execution_count": null,
   "metadata": {},
   "outputs": [],
   "source": []
  }
 ],
 "metadata": {
  "kernelspec": {
   "display_name": "Python 3",
   "language": "python",
   "name": "python3"
  },
  "language_info": {
   "codemirror_mode": {
    "name": "ipython",
    "version": 3
   },
   "file_extension": ".py",
   "mimetype": "text/x-python",
   "name": "python",
   "nbconvert_exporter": "python",
   "pygments_lexer": "ipython3",
   "version": "3.7.0"
  }
 },
 "nbformat": 4,
 "nbformat_minor": 2
}
