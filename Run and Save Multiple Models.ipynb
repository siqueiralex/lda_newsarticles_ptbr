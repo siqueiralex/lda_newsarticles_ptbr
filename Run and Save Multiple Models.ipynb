{
 "cells": [
  {
   "cell_type": "code",
   "execution_count": 1,
   "metadata": {},
   "outputs": [],
   "source": [
    "import Loader\n",
    "from PreProcessor import Preprocessor\n",
    "from LdaMalletHandler import LdaMalletHandler\n",
    "import numpy as np"
   ]
  },
  {
   "cell_type": "code",
   "execution_count": 2,
   "metadata": {},
   "outputs": [],
   "source": [
    "mallet_path = \"/Users/alex/mallet-2.0.8/bin/mallet\"\n",
    "corpus_path = \"data/Folhacompleto/\"\n",
    "\n",
    "multi_model_name = \"FolhaCompleto\"\n",
    "from_n = 50\n",
    "to_n = 200\n",
    "interval = 50\n",
    "iterations= 500"
   ]
  },
  {
   "cell_type": "code",
   "execution_count": 3,
   "metadata": {},
   "outputs": [],
   "source": [
    "corpus = Loader.load_from_folder(corpus_path)\n",
    "p = Preprocessor(lang='portuguese')  \n",
    "pre_processed = p.transform(corpus['articles'])"
   ]
  },
  {
   "cell_type": "code",
   "execution_count": 4,
   "metadata": {},
   "outputs": [
    {
     "data": {
      "text/plain": [
       "array([ 50, 100, 150, 200], dtype=uint32)"
      ]
     },
     "execution_count": 4,
     "metadata": {},
     "output_type": "execute_result"
    }
   ],
   "source": [
    "tp_range = np.arange(from_n,to_n+1,interval,dtype=np.uint32)\n",
    "tp_range"
   ]
  },
  {
   "cell_type": "code",
   "execution_count": 5,
   "metadata": {},
   "outputs": [],
   "source": [
    "for n_topics in tp_range:\n",
    "    model_name = \"{}{}t_{}i\".format(multi_model_name,n_topics,iterations)\n",
    "    lda = LdaMalletHandler(mallet_path=mallet_path)\n",
    "    lda.run_model(model_name=model_name, corpus=pre_processed, num_topics=n_topics, iterations=iterations, workers=8)\n",
    "    file = open(\"results/\"+model_name+\".txt\", \"w\")\n",
    "    for topic in lda.get_string_topics():\n",
    "        file.write(topic+\"\\n\")\n",
    "    file.close()    \n",
    "    lda.save_model()"
   ]
  },
  {
   "cell_type": "code",
   "execution_count": null,
   "metadata": {},
   "outputs": [],
   "source": []
  }
 ],
 "metadata": {
  "kernelspec": {
   "display_name": "Python 3",
   "language": "python",
   "name": "python3"
  },
  "language_info": {
   "codemirror_mode": {
    "name": "ipython",
    "version": 3
   },
   "file_extension": ".py",
   "mimetype": "text/x-python",
   "name": "python",
   "nbconvert_exporter": "python",
   "pygments_lexer": "ipython3",
   "version": "3.6.6"
  }
 },
 "nbformat": 4,
 "nbformat_minor": 2
}
