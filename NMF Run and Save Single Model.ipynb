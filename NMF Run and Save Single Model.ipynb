{
 "cells": [
  {
   "cell_type": "code",
   "execution_count": 2,
   "metadata": {},
   "outputs": [],
   "source": [
    "import Loader\n",
    "from PreProcessor import Preprocessor\n",
    "from LdaMalletHandler import LdaMalletHandler\n",
    "from DocumentRetriever import DocumentRetriever\n",
    "from gensim.corpora.dictionary import Dictionary\n",
    "from gensim.models.wrappers import LdaMallet\n",
    "import pandas as pd"
   ]
  },
  {
   "cell_type": "code",
   "execution_count": 3,
   "metadata": {},
   "outputs": [],
   "source": [
    "import pandas as pd;\n",
    "import numpy as np;\n",
    "import scipy as sp;\n",
    "import sklearn;\n",
    "import sys;\n",
    "from nltk.corpus import stopwords;\n",
    "import nltk;\n",
    "from gensim.models import ldamodel\n",
    "import gensim.corpora;\n",
    "from sklearn.feature_extraction.text import CountVectorizer, TfidfTransformer;\n",
    "from sklearn.decomposition import NMF;\n",
    "from sklearn.preprocessing import normalize;\n",
    "import pickle;"
   ]
  },
  {
   "cell_type": "markdown",
   "metadata": {},
   "source": [
    "### Load corpus"
   ]
  },
  {
   "cell_type": "code",
   "execution_count": 4,
   "metadata": {},
   "outputs": [],
   "source": [
    "corpus = Loader.load_from_folder(\"data/Folhacompleto/\")"
   ]
  },
  {
   "cell_type": "code",
   "execution_count": 5,
   "metadata": {},
   "outputs": [
    {
     "data": {
      "text/plain": [
       "103913"
      ]
     },
     "execution_count": 5,
     "metadata": {},
     "output_type": "execute_result"
    }
   ],
   "source": [
    "len(corpus['articles'])"
   ]
  },
  {
   "cell_type": "code",
   "execution_count": 6,
   "metadata": {},
   "outputs": [
    {
     "data": {
      "text/plain": [
       "dict_keys(['articles', 'dates'])"
      ]
     },
     "execution_count": 6,
     "metadata": {},
     "output_type": "execute_result"
    }
   ],
   "source": [
    "corpus.keys()"
   ]
  },
  {
   "cell_type": "code",
   "execution_count": 7,
   "metadata": {},
   "outputs": [],
   "source": [
    "df = pd.DataFrame.from_dict(corpus)\n",
    "df = df.drop('dates', 1)"
   ]
  },
  {
   "cell_type": "markdown",
   "metadata": {},
   "source": [
    "### Pre-process and tokenize"
   ]
  },
  {
   "cell_type": "code",
   "execution_count": 8,
   "metadata": {},
   "outputs": [],
   "source": [
    "p = Preprocessor(lang='portuguese')  \n",
    "pre_processed = p.transform(corpus['articles'])"
   ]
  },
  {
   "cell_type": "markdown",
   "metadata": {},
   "source": [
    "# NMF"
   ]
  },
  {
   "cell_type": "code",
   "execution_count": 9,
   "metadata": {},
   "outputs": [],
   "source": [
    "# colocando todos os arquivos do dataset preprocessado na lista \n",
    "# e juntando as palavras, montando o artigo pós pré processamento\n",
    "dataNMF = [' '.join(text) for text in pre_processed]"
   ]
  },
  {
   "cell_type": "code",
   "execution_count": 10,
   "metadata": {},
   "outputs": [],
   "source": [
    "# criando o vectorizer e contando a frequencia das palavras\n",
    "vectorizer = CountVectorizer(analyzer='word', max_features=500000) # pegando as 500000 melhores features\n",
    "xCounts = vectorizer.fit_transform(dataNMF)"
   ]
  },
  {
   "cell_type": "code",
   "execution_count": 11,
   "metadata": {},
   "outputs": [],
   "source": [
    "# aplicando o tfidf\n",
    "transformer = TfidfTransformer(smooth_idf=False)\n",
    "xTfidf = transformer.fit_transform(xCounts)"
   ]
  },
  {
   "cell_type": "code",
   "execution_count": 12,
   "metadata": {},
   "outputs": [],
   "source": [
    "# fazendo a normalização\n",
    "xTfidfNorm = normalize(xTfidf, norm='l1', axis=1)"
   ]
  },
  {
   "cell_type": "code",
   "execution_count": 13,
   "metadata": {},
   "outputs": [],
   "source": [
    "# definindo o número de tópicos\n",
    "# coloquei 50 por conta de ser o mesmo númeor que estávamos usando no LDA\n",
    "nTopics = 200"
   ]
  },
  {
   "cell_type": "code",
   "execution_count": 14,
   "metadata": {},
   "outputs": [],
   "source": [
    "modelNMF = NMF(n_components= nTopics, init='nndsvd')"
   ]
  },
  {
   "cell_type": "code",
   "execution_count": 15,
   "metadata": {},
   "outputs": [
    {
     "data": {
      "text/plain": [
       "NMF(alpha=0.0, beta_loss='frobenius', init='nndsvd', l1_ratio=0.0,\n",
       "  max_iter=200, n_components=200, random_state=None, shuffle=False,\n",
       "  solver='cd', tol=0.0001, verbose=0)"
      ]
     },
     "execution_count": 15,
     "metadata": {},
     "output_type": "execute_result"
    }
   ],
   "source": [
    "# treinando o modelo\n",
    "modelNMF.fit(xTfidfNorm)"
   ]
  },
  {
   "cell_type": "code",
   "execution_count": 16,
   "metadata": {},
   "outputs": [],
   "source": [
    "def getTopicsNMF(model, nTopWords):\n",
    "    '''funcao para pegar os tópicos da NMF\n",
    "    model = modelo do NMF\n",
    "    nTopWord = numero de top words'''\n",
    "    feat_names = vectorizer.get_feature_names()\n",
    "    \n",
    "    word_dict = {};\n",
    "    for i in range(nTopics):\n",
    "        words_ids = model.components_[i].argsort()[:-nTopWords - 1:-1]\n",
    "        words = [feat_names[key] for key in words_ids]\n",
    "        word_dict['Topic # ' + '{:02d}'.format(i+1)] = words\n",
    "    \n",
    "    return word_dict"
   ]
  },
  {
   "cell_type": "code",
   "execution_count": 17,
   "metadata": {},
   "outputs": [
    {
     "data": {
      "text/html": [
       "<div>\n",
       "<style scoped>\n",
       "    .dataframe tbody tr th:only-of-type {\n",
       "        vertical-align: middle;\n",
       "    }\n",
       "\n",
       "    .dataframe tbody tr th {\n",
       "        vertical-align: top;\n",
       "    }\n",
       "\n",
       "    .dataframe thead th {\n",
       "        text-align: right;\n",
       "    }\n",
       "</style>\n",
       "<table border=\"1\" class=\"dataframe\">\n",
       "  <thead>\n",
       "    <tr style=\"text-align: right;\">\n",
       "      <th></th>\n",
       "      <th>Topic # 01</th>\n",
       "      <th>Topic # 02</th>\n",
       "      <th>Topic # 03</th>\n",
       "      <th>Topic # 04</th>\n",
       "      <th>Topic # 05</th>\n",
       "      <th>Topic # 06</th>\n",
       "      <th>Topic # 07</th>\n",
       "      <th>Topic # 08</th>\n",
       "      <th>Topic # 09</th>\n",
       "      <th>Topic # 10</th>\n",
       "      <th>...</th>\n",
       "      <th>Topic # 191</th>\n",
       "      <th>Topic # 192</th>\n",
       "      <th>Topic # 193</th>\n",
       "      <th>Topic # 194</th>\n",
       "      <th>Topic # 195</th>\n",
       "      <th>Topic # 196</th>\n",
       "      <th>Topic # 197</th>\n",
       "      <th>Topic # 198</th>\n",
       "      <th>Topic # 199</th>\n",
       "      <th>Topic # 200</th>\n",
       "    </tr>\n",
       "  </thead>\n",
       "  <tbody>\n",
       "    <tr>\n",
       "      <th>0</th>\n",
       "      <td>fazenda</td>\n",
       "      <td>mes</td>\n",
       "      <td>cesta</td>\n",
       "      <td>congresso</td>\n",
       "      <td>dolar</td>\n",
       "      <td>policia</td>\n",
       "      <td>us</td>\n",
       "      <td>candidato</td>\n",
       "      <td>unido</td>\n",
       "      <td>indice</td>\n",
       "      <td>...</td>\n",
       "      <td>manaus</td>\n",
       "      <td>norte</td>\n",
       "      <td>agua</td>\n",
       "      <td>outubro</td>\n",
       "      <td>pessoas</td>\n",
       "      <td>emprego</td>\n",
       "      <td>anos</td>\n",
       "      <td>setor</td>\n",
       "      <td>queda</td>\n",
       "      <td>hotel</td>\n",
       "    </tr>\n",
       "    <tr>\n",
       "      <th>1</th>\n",
       "      <td>dallari</td>\n",
       "      <td>anterior</td>\n",
       "      <td>basica</td>\n",
       "      <td>revisao</td>\n",
       "      <td>fechou</td>\n",
       "      <td>delegado</td>\n",
       "      <td>bilhao</td>\n",
       "      <td>pdt</td>\n",
       "      <td>reino</td>\n",
       "      <td>igp</td>\n",
       "      <td>...</td>\n",
       "      <td>amazonas</td>\n",
       "      <td>coreia</td>\n",
       "      <td>sabesp</td>\n",
       "      <td>novembro</td>\n",
       "      <td>cerca</td>\n",
       "      <td>nivel</td>\n",
       "      <td>dois</td>\n",
       "      <td>autopecas</td>\n",
       "      <td>caiu</td>\n",
       "      <td>restaurante</td>\n",
       "    </tr>\n",
       "    <tr>\n",
       "      <th>2</th>\n",
       "      <td>ministerio</td>\n",
       "      <td>passado</td>\n",
       "      <td>custo</td>\n",
       "      <td>jobim</td>\n",
       "      <td>bolsas</td>\n",
       "      <td>crime</td>\n",
       "      <td>valor</td>\n",
       "      <td>psdb</td>\n",
       "      <td>irlanda</td>\n",
       "      <td>ipc</td>\n",
       "      <td>...</td>\n",
       "      <td>belem</td>\n",
       "      <td>americano</td>\n",
       "      <td>rodizio</td>\n",
       "      <td>setembro</td>\n",
       "      <td>matou</td>\n",
       "      <td>trabalho</td>\n",
       "      <td>tres</td>\n",
       "      <td>empregados</td>\n",
       "      <td>reducao</td>\n",
       "      <td>hoteis</td>\n",
       "    </tr>\n",
       "    <tr>\n",
       "      <th>3</th>\n",
       "      <td>secretario</td>\n",
       "      <td>comparacao</td>\n",
       "      <td>procon</td>\n",
       "      <td>parlamentares</td>\n",
       "      <td>mercado</td>\n",
       "      <td>civil</td>\n",
       "      <td>faturamento</td>\n",
       "      <td>brizola</td>\n",
       "      <td>britanico</td>\n",
       "      <td>consumidor</td>\n",
       "      <td>...</td>\n",
       "      <td>agencia</td>\n",
       "      <td>americana</td>\n",
       "      <td>abastecimento</td>\n",
       "      <td>relacao</td>\n",
       "      <td>menos</td>\n",
       "      <td>desemprego</td>\n",
       "      <td>quatro</td>\n",
       "      <td>privado</td>\n",
       "      <td>recuo</td>\n",
       "      <td>restaurantes</td>\n",
       "    </tr>\n",
       "    <tr>\n",
       "      <th>4</th>\n",
       "      <td>malan</td>\n",
       "      <td>relacao</td>\n",
       "      <td>dieese</td>\n",
       "      <td>constitucional</td>\n",
       "      <td>ouro</td>\n",
       "      <td>prisao</td>\n",
       "      <td>trimestre</td>\n",
       "      <td>presidencia</td>\n",
       "      <td>diana</td>\n",
       "      <td>variacao</td>\n",
       "      <td>...</td>\n",
       "      <td>ibama</td>\n",
       "      <td>kim</td>\n",
       "      <td>chuvas</td>\n",
       "      <td>dezembro</td>\n",
       "      <td>morreram</td>\n",
       "      <td>trabalhadores</td>\n",
       "      <td>idade</td>\n",
       "      <td>sinicesp</td>\n",
       "      <td>registrou</td>\n",
       "      <td>pacote</td>\n",
       "    </tr>\n",
       "    <tr>\n",
       "      <th>5</th>\n",
       "      <td>milton</td>\n",
       "      <td>recuo</td>\n",
       "      <td>higiene</td>\n",
       "      <td>partidos</td>\n",
       "      <td>indice</td>\n",
       "      <td>preso</td>\n",
       "      <td>custa</td>\n",
       "      <td>candidatura</td>\n",
       "      <td>londres</td>\n",
       "      <td>fgv</td>\n",
       "      <td>...</td>\n",
       "      <td>amazonia</td>\n",
       "      <td>sul</td>\n",
       "      <td>racionamento</td>\n",
       "      <td>passado</td>\n",
       "      <td>numero</td>\n",
       "      <td>postos</td>\n",
       "      <td>cinco</td>\n",
       "      <td>faturamento</td>\n",
       "      <td>supermercados</td>\n",
       "      <td>turismo</td>\n",
       "    </tr>\n",
       "    <tr>\n",
       "      <th>6</th>\n",
       "      <td>brasilia</td>\n",
       "      <td>atingiu</td>\n",
       "      <td>produtos</td>\n",
       "      <td>reformas</td>\n",
       "      <td>compra</td>\n",
       "      <td>acusado</td>\n",
       "      <td>milhao</td>\n",
       "      <td>apoio</td>\n",
       "      <td>major</td>\n",
       "      <td>ipa</td>\n",
       "      <td>...</td>\n",
       "      <td>am</td>\n",
       "      <td>americanos</td>\n",
       "      <td>bairros</td>\n",
       "      <td>desde</td>\n",
       "      <td>casas</td>\n",
       "      <td>empregos</td>\n",
       "      <td>ultimos</td>\n",
       "      <td>pesada</td>\n",
       "      <td>cairam</td>\n",
       "      <td>custa</td>\n",
       "    </tr>\n",
       "    <tr>\n",
       "      <th>7</th>\n",
       "      <td>assessor</td>\n",
       "      <td>igual</td>\n",
       "      <td>medio</td>\n",
       "      <td>reforma</td>\n",
       "      <td>venda</td>\n",
       "      <td>pf</td>\n",
       "      <td>internacionais</td>\n",
       "      <td>turno</td>\n",
       "      <td>ira</td>\n",
       "      <td>fundacao</td>\n",
       "      <td>...</td>\n",
       "      <td>acre</td>\n",
       "      <td>coreano</td>\n",
       "      <td>saneamento</td>\n",
       "      <td>subiu</td>\n",
       "      <td>fisicas</td>\n",
       "      <td>crescimento</td>\n",
       "      <td>meses</td>\n",
       "      <td>associacao</td>\n",
       "      <td>retracao</td>\n",
       "      <td>pratos</td>\n",
       "    </tr>\n",
       "    <tr>\n",
       "      <th>8</th>\n",
       "      <td>economica</td>\n",
       "      <td>bilhao</td>\n",
       "      <td>limpeza</td>\n",
       "      <td>emendas</td>\n",
       "      <td>exterior</td>\n",
       "      <td>delegacia</td>\n",
       "      <td>bi</td>\n",
       "      <td>tucano</td>\n",
       "      <td>princesa</td>\n",
       "      <td>percentual</td>\n",
       "      <td>...</td>\n",
       "      <td>segundo</td>\n",
       "      <td>il</td>\n",
       "      <td>zona</td>\n",
       "      <td>caiu</td>\n",
       "      <td>maioria</td>\n",
       "      <td>vagas</td>\n",
       "      <td>dez</td>\n",
       "      <td>sindipecas</td>\n",
       "      <td>relacao</td>\n",
       "      <td>praia</td>\n",
       "    </tr>\n",
       "    <tr>\n",
       "      <th>9</th>\n",
       "      <td>pedro</td>\n",
       "      <td>comparados</td>\n",
       "      <td>convenio</td>\n",
       "      <td>revisor</td>\n",
       "      <td>bm</td>\n",
       "      <td>prendeu</td>\n",
       "      <td>anunciou</td>\n",
       "      <td>amin</td>\n",
       "      <td>john</td>\n",
       "      <td>atacado</td>\n",
       "      <td>...</td>\n",
       "      <td>tocantins</td>\n",
       "      <td>nuclear</td>\n",
       "      <td>moradores</td>\n",
       "      <td>meses</td>\n",
       "      <td>manifestantes</td>\n",
       "      <td>fiesp</td>\n",
       "      <td>prisao</td>\n",
       "      <td>trabalhadores</td>\n",
       "      <td>quedas</td>\n",
       "      <td>hospedagem</td>\n",
       "    </tr>\n",
       "  </tbody>\n",
       "</table>\n",
       "<p>10 rows × 200 columns</p>\n",
       "</div>"
      ],
      "text/plain": [
       "   Topic # 01  Topic # 02 Topic # 03      Topic # 04 Topic # 05 Topic # 06  \\\n",
       "0     fazenda         mes      cesta       congresso      dolar    policia   \n",
       "1     dallari    anterior     basica         revisao     fechou   delegado   \n",
       "2  ministerio     passado      custo           jobim     bolsas      crime   \n",
       "3  secretario  comparacao     procon   parlamentares    mercado      civil   \n",
       "4       malan     relacao     dieese  constitucional       ouro     prisao   \n",
       "5      milton       recuo    higiene        partidos     indice      preso   \n",
       "6    brasilia     atingiu   produtos        reformas     compra    acusado   \n",
       "7    assessor       igual      medio         reforma      venda         pf   \n",
       "8   economica      bilhao    limpeza         emendas   exterior  delegacia   \n",
       "9       pedro  comparados   convenio         revisor         bm    prendeu   \n",
       "\n",
       "       Topic # 07   Topic # 08 Topic # 09  Topic # 10      ...       \\\n",
       "0              us    candidato      unido      indice      ...        \n",
       "1          bilhao          pdt      reino         igp      ...        \n",
       "2           valor         psdb    irlanda         ipc      ...        \n",
       "3     faturamento      brizola  britanico  consumidor      ...        \n",
       "4       trimestre  presidencia      diana    variacao      ...        \n",
       "5           custa  candidatura    londres         fgv      ...        \n",
       "6          milhao        apoio      major         ipa      ...        \n",
       "7  internacionais        turno        ira    fundacao      ...        \n",
       "8              bi       tucano   princesa  percentual      ...        \n",
       "9        anunciou         amin       john     atacado      ...        \n",
       "\n",
       "  Topic # 191 Topic # 192    Topic # 193 Topic # 194    Topic # 195  \\\n",
       "0      manaus       norte           agua     outubro        pessoas   \n",
       "1    amazonas      coreia         sabesp    novembro          cerca   \n",
       "2       belem   americano        rodizio    setembro          matou   \n",
       "3     agencia   americana  abastecimento     relacao          menos   \n",
       "4       ibama         kim         chuvas    dezembro       morreram   \n",
       "5    amazonia         sul   racionamento     passado         numero   \n",
       "6          am  americanos        bairros       desde          casas   \n",
       "7        acre     coreano     saneamento       subiu        fisicas   \n",
       "8     segundo          il           zona        caiu        maioria   \n",
       "9   tocantins     nuclear      moradores       meses  manifestantes   \n",
       "\n",
       "     Topic # 196 Topic # 197    Topic # 198    Topic # 199   Topic # 200  \n",
       "0        emprego        anos          setor          queda         hotel  \n",
       "1          nivel        dois      autopecas           caiu   restaurante  \n",
       "2       trabalho        tres     empregados        reducao        hoteis  \n",
       "3     desemprego      quatro        privado          recuo  restaurantes  \n",
       "4  trabalhadores       idade       sinicesp      registrou        pacote  \n",
       "5         postos       cinco    faturamento  supermercados       turismo  \n",
       "6       empregos     ultimos         pesada         cairam         custa  \n",
       "7    crescimento       meses     associacao       retracao        pratos  \n",
       "8          vagas         dez     sindipecas        relacao         praia  \n",
       "9          fiesp      prisao  trabalhadores         quedas    hospedagem  \n",
       "\n",
       "[10 rows x 200 columns]"
      ]
     },
     "execution_count": 17,
     "metadata": {},
     "output_type": "execute_result"
    }
   ],
   "source": [
    "pd.DataFrame(getTopicsNMF(modelNMF, 10))"
   ]
  },
  {
   "cell_type": "code",
   "execution_count": 18,
   "metadata": {},
   "outputs": [],
   "source": [
    "topics = getTopicsNMF(modelNMF, 10)"
   ]
  },
  {
   "cell_type": "code",
   "execution_count": 19,
   "metadata": {},
   "outputs": [],
   "source": [
    "file = open(\"results/FolhaCompletoNMF_{}t.txt\".format(nTopics), \"w\")\n",
    "for t in topics.keys():\n",
    "    file.write(\" \".join(topics[t])+\"\\n\")\n",
    "file.close() "
   ]
  },
  {
   "cell_type": "code",
   "execution_count": null,
   "metadata": {},
   "outputs": [],
   "source": []
  }
 ],
 "metadata": {
  "kernelspec": {
   "display_name": "Python 3",
   "language": "python",
   "name": "python3"
  },
  "language_info": {
   "codemirror_mode": {
    "name": "ipython",
    "version": 3
   },
   "file_extension": ".py",
   "mimetype": "text/x-python",
   "name": "python",
   "nbconvert_exporter": "python",
   "pygments_lexer": "ipython3",
   "version": "3.6.6"
  }
 },
 "nbformat": 4,
 "nbformat_minor": 2
}
