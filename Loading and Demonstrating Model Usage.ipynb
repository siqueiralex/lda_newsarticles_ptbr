{
 "cells": [
  {
   "cell_type": "code",
   "execution_count": 1,
   "metadata": {},
   "outputs": [],
   "source": [
    "from LdaMalletHandler import LdaMalletHandler\n",
    "import Loader\n",
    "from PreProcessor import Preprocessor"
   ]
  },
  {
   "cell_type": "code",
   "execution_count": 2,
   "metadata": {},
   "outputs": [],
   "source": [
    "saved_model_name = \"FolhaCompleto150t_500i\"\n",
    "mallet_path = \"/Users/alex/mallet-2.0.8/bin/mallet\""
   ]
  },
  {
   "cell_type": "markdown",
   "metadata": {},
   "source": [
    "### Loading saved model"
   ]
  },
  {
   "cell_type": "code",
   "execution_count": 3,
   "metadata": {},
   "outputs": [],
   "source": [
    "lda = LdaMalletHandler(mallet_path=mallet_path)\n",
    "lda.load_model(saved_model_name)\n",
    "\n",
    "# load corpus from path stored in the saved model\n",
    "corpus = Loader.load_from_folder(\"data/Folhacompleto/\")"
   ]
  },
  {
   "cell_type": "code",
   "execution_count": 4,
   "metadata": {
    "scrolled": true
   },
   "outputs": [
    {
     "name": "stdout",
     "output_type": "stream",
     "text": [
      "Some topics of the model:\n"
     ]
    },
    {
     "data": {
      "text/plain": [
       "['pra rarara vai ta ai diz simao bomba pro vou',\n",
       " 'cinema filme filmes diretor cineasta mostra festival producao historia video',\n",
       " 'ministro fazenda governo ministerio economica equipe plano serra brasilia malan',\n",
       " 'problema problemas situacao crise falta solucao pode resolver caso risco',\n",
       " 'paulo sp santos minas belo horizonte preto jose interior folha',\n",
       " 'precos alta produtos queda cesta custo mes indice aumento basica',\n",
       " 'ciencia cientistas pesquisa pesquisadores universidade cientifica instituto estudo pesquisas celulas',\n",
       " 'nunca vida mim tudo queria sempre coisa tempo nada dia',\n",
       " 'indios ribeiro ser sobre ainda hoje indio onde parte indigenas',\n",
       " 'tenis ano dois anos norte titulo final estrelas espacial mundial']"
      ]
     },
     "execution_count": 4,
     "metadata": {},
     "output_type": "execute_result"
    }
   ],
   "source": [
    "print(\"Some topics of the model:\")\n",
    "all_topics = lda.get_string_topics()\n",
    "all_topics[:10]"
   ]
  },
  {
   "cell_type": "code",
   "execution_count": 6,
   "metadata": {},
   "outputs": [
    {
     "data": {
      "text/plain": [
       "[(11,\n",
       "  '0.015*\"geral\" + 0.014*\"caso\" + 0.013*\"inquerito\" + 0.013*\"federal\" + 0.012*\"denuncia\" + 0.011*\"procurador\" + 0.011*\"denuncias\" + 0.011*\"justica\" + 0.011*\"dinheiro\" + 0.011*\"corrupcao\" + 0.010*\"investigacoes\" + 0.010*\"publico\" + 0.010*\"pc\" + 0.010*\"cpi\" + 0.009*\"ministerio\" + 0.009*\"documentos\" + 0.009*\"contra\" + 0.009*\"investigacao\" + 0.008*\"policia\" + 0.008*\"procuradoria\" + 0.008*\"collor\" + 0.007*\"republica\" + 0.007*\"lista\" + 0.007*\"bicho\" + 0.007*\"esquema\" + 0.007*\"acusacoes\" + 0.006*\"sigilo\" + 0.006*\"nomes\" + 0.006*\"irregularidades\" + 0.006*\"farias\" + 0.005*\"apurar\" + 0.005*\"investigar\" + 0.005*\"empresario\" + 0.005*\"acusacao\" + 0.005*\"nome\" + 0.005*\"jogo\" + 0.005*\"depoimento\" + 0.005*\"acusado\" + 0.005*\"sobre\" + 0.005*\"carlos\" + 0.005*\"provas\" + 0.004*\"pedido\" + 0.004*\"envolvimento\" + 0.004*\"pf\" + 0.004*\"acusados\" + 0.004*\"processo\" + 0.004*\"abertura\" + 0.004*\"ter\" + 0.004*\"informacoes\" + 0.004*\"suspeita\" + 0.004*\"recebeu\" + 0.004*\"promotor\" + 0.003*\"bicheiros\" + 0.003*\"crime\" + 0.003*\"filho\" + 0.003*\"pediu\" + 0.003*\"delegado\" + 0.003*\"sido\" + 0.003*\"junqueira\" + 0.003*\"castor\" + 0.003*\"envolvidos\" + 0.003*\"quebra\" + 0.003*\"escandalo\" + 0.003*\"antonio\" + 0.003*\"amorim\" + 0.003*\"cesar\" + 0.003*\"recebido\" + 0.003*\"conta\" + 0.003*\"bancario\" + 0.003*\"ontem\" + 0.003*\"disse\" + 0.003*\"indicios\" + 0.003*\"feitas\" + 0.003*\"investiga\" + 0.003*\"contas\" + 0.003*\"pedir\" + 0.003*\"fraude\" + 0.003*\"sob\" + 0.003*\"escritorio\" + 0.003*\"notas\" + 0.003*\"procuradores\" + 0.002*\"suposto\" + 0.002*\"aristides\" + 0.002*\"depor\" + 0.002*\"inqueritos\" + 0.002*\"civil\" + 0.002*\"advogado\" + 0.002*\"funcionarios\" + 0.002*\"jose\" + 0.002*\"bicheiro\" + 0.002*\"fantasmas\" + 0.002*\"oficio\" + 0.002*\"diretor\" + 0.002*\"biscaia\" + 0.002*\"suspeitas\" + 0.002*\"depoimentos\" + 0.002*\"noal\" + 0.002*\"existencia\" + 0.002*\"corregedoria\" + 0.002*\"fraudes\"')]"
      ]
     },
     "execution_count": 6,
     "metadata": {},
     "output_type": "execute_result"
    }
   ],
   "source": [
    "lda.model.print_topics(num_topics=1, num_words=100)"
   ]
  },
  {
   "cell_type": "markdown",
   "metadata": {},
   "source": [
    "### Most representative document of topic"
   ]
  },
  {
   "cell_type": "code",
   "execution_count": 13,
   "metadata": {},
   "outputs": [
    {
     "name": "stdout",
     "output_type": "stream",
     "text": [
      "cancer tratamento pode medico corpo doenca remedios pessoas podem dor\n",
      "1995-04-29 00:00:00  FERNANDA DA ESCÓSSIA Da Sucursal do Rio  Um menino de três anos e meio e medindo 1,45m _altura de uma criança de 10 anos_ foi operado há quatro dias no Rio para a redução de um tumor cerebral responsável pelo crescimento acelerado. O tumor, localizado na base do crânio do garoto Conrado Costa, invadiu a glândula hipófise, responsável pela produção do hormônio que controla o crescimento. Conrado está internado desde o início do mês no Hospital Municipal Jesus, em Vila Isabel (zona norte). Ele viajou de Patos, na Paraíba, com a mãe, Eliane Cabral. O garoto fala, anda e tem idade mental normal para a idade. Eliane disse que ele nasceu com 62 centímetros e 6,2 kg. O tamanho normal de um recém-nascido é aproximadamente 50 centímetros. \"Depois fomos notando que o crescimento dele era demais. Meu outro filho é normal, então desconfiamos de alguma doença. A Secretaria de Saúde da Paraíba pagou nossas passagens de avião para cá\", afirmou. O neurocirurgião Édson Mendes Nunes, que operou Conrado, disse que ele sofre de um tipo raro de gigantismo _o crescimento anormal. \"Vimos casos de gigantismo a partir da infância, geralmente 7 anos, mas não assim congênito, já no nascimento\", disse. O tumor, do tamanho de uma ameixa, afetava também o nervo óptico, responsável pela visão. Os médicos Édson Nunes e Luiz Cláudio Maia extraíram metade do tumor, liberando a glândula hipófise e o nervo óptico. O pedaço extraído foi submetido a um exame de patologia, para verificar se o tumor é maligno ou benigno. \"Pela análise macroscópica, é benigno, mas o problema era sua localização sobre a glândula\", afirmou. A operação durou quatro horas e aconteceu na terça-feira. Só ontem o garoto saiu do CTI (Centro de Terapia Intensiva) para a enfermaria. Ele chorava muito, mas estava bem, segundo Nunes. Os médicos ainda têm que pesquisar dois pontos no caso de Conrado: a normalização do crescimento do garoto e o controle do tumor. O menino pode ser submetido a um tratamento hormonal, para regular seu crescimento até a idade adulta. \n",
      "\n"
     ]
    }
   ],
   "source": [
    "topic_number = 50\n",
    "most_repr = lda.n_most_representative(topic_number,n=500)\n",
    "\n",
    "print(all_topics[topic_number])\n",
    "print(corpus['dates'][most_repr[-1]], corpus['articles'][most_repr[-1]])\n",
    "print()\n",
    "\n",
    "# print(\"MOST REPRESENTATIVE DOCUMENTS OF TOPIC:\")\n",
    "# print(all_topics[topic_number])\n",
    "# print()\n",
    "# print()\n",
    "# for n_doc in most_repr:\n",
    "#     print(corpus['dates'][n_doc], corpus['articles'][n_doc])\n",
    "#     print()"
   ]
  },
  {
   "cell_type": "markdown",
   "metadata": {},
   "source": [
    "### Most significative topics of internal document"
   ]
  },
  {
   "cell_type": "code",
   "execution_count": 6,
   "metadata": {},
   "outputs": [
    {
     "name": "stdout",
     "output_type": "stream",
     "text": [
      "DOCUMENT:\n",
      " O prefeito Paulo Maluf pretende marcar sua gestão através de grandes obras viárias na cidade de São Paulo. Maluf também parece querer fazer de um conjunto de pontes, túneis e avenidas o símbolo de uma possível candidatura presidencial. Mas esse ímpeto de realizar está atropelando o direito dos cidadãos de serem bem informados sobre a utilização do seu próprio dinheiro. A Prefeitura demorou três semanas mais do que o prometido para divulgar o laudo sobre o acidente nas obras de um túnel da zona sul da cidade. Entre os dias 24 e 26 de novembro o desabamento da galeria de um córrego, causado pelos trabalhos de escavação, provocou o surgimento de duas crateras nas avenidas sobre o túnel. Desde então, o governo municipal obstruiu o trabalho da imprensa no local e limitou as informações sobre o caso a lacônicos e quase nada informativos boletins oficiais, deixando a população da região intranquila. Agora, o secretrário de Obras da cidade diz que vai ignorar a determinação da Secretaria Estadual do Meio Ambiente de São Paulo de interromper a instalação do sistema de exaustores de outro túnel, os quais causariam excessiva poluição sonora numa região residencial. Se o secretário discorda da resolução deve procurar tomar as medidas cabíveis, até na Justiça se for o caso, e não desrespeitar as decisões de um órgão que representa os interesses da população na área ambiental. A maioria dos paulistanos aprovou nas urnas o projeto malufista de transformar a cidade em um canteiro de obras. Mas não deu carta branca ao prefeito para realizá-las a qualquer custo, sem dar satisfações sobre acidentes de percurso ou a críticas da sociedade ao modo como os trabalhos vêm sendo conduzidos. É a população que paga as contas. E são os paulistanos que podem arcar com os perigos de obras malfeitas. \n",
      "\n",
      "IS LIKELY TO BELONG TO:\n",
      "Topic 47 : paulo local rua cidade avenida prefeitura zona prefeito centro secretaria - with probability: 0.277\n",
      "Topic 45 : pais sociedade brasil politica populacao apenas todos publico publica brasileira - with probability: 0.059\n"
     ]
    }
   ],
   "source": [
    "doc_number = 2\n",
    "doc_topics = lda.doc_topics(doc_number)\n",
    "\n",
    "\n",
    "print(\"DOCUMENT:\")\n",
    "print(corpus['articles'][doc_number])\n",
    "print()\n",
    "print(\"IS LIKELY TO BELONG TO:\")\n",
    "print(\"Topic\",doc_topics[0][0],\":\",all_topics[doc_topics[0][0]],\"- with probability: {:.3f}\".format(doc_topics[0][1]))\n",
    "print(\"Topic\",doc_topics[1][0],\":\",all_topics[doc_topics[1][0]],\"- with probability: {:.3f}\".format(doc_topics[1][1]))"
   ]
  },
  {
   "cell_type": "markdown",
   "metadata": {},
   "source": [
    "### Topics of new document"
   ]
  },
  {
   "cell_type": "code",
   "execution_count": 7,
   "metadata": {},
   "outputs": [
    {
     "name": "stdout",
     "output_type": "stream",
     "text": [
      "1st more likely: time futebol copa tecnico jogadores clube jogador jogo campeonato selecao\n",
      "2nd more likely paulo tempo min local contra bola gol reportagem primeiro tecnico\n"
     ]
    }
   ],
   "source": [
    "new_document = '''\n",
    "O modelo de jogo do Felipão é esse, é convicção. \n",
    "O que se discute é que, apesar do sucesso no Brasileirão, no qual o time usa ligação direta, \n",
    "tem pouca troca de passes, gosta da bola no centroavante e da disputa da segunda bola, \n",
    "é se isso será suficiente para passar do Boca Juniors. \n",
    "No Brasileiro, o repertório é suficiente para ser líder. \n",
    "Para mim, o campeonato acabou. Acabou a brincadeira.\"\n",
    "'''\n",
    "\n",
    "# Preprocess new document\n",
    "p = Preprocessor(lang='portuguese')\n",
    "processed_new_doc = p.transform([new_document])[0]\n",
    "\n",
    "# time consuming if your model is too large \n",
    "topics = lda.ext_doc_topics(processed_new_doc)\n",
    "\n",
    "print(\"1st more likely:\", all_topics[topics[0][0]])\n",
    "print(\"2nd more likely\",all_topics[topics[1][0]])"
   ]
  },
  {
   "cell_type": "markdown",
   "metadata": {},
   "source": [
    "###  Most similar to new document"
   ]
  },
  {
   "cell_type": "code",
   "execution_count": 8,
   "metadata": {},
   "outputs": [
    {
     "name": "stdout",
     "output_type": "stream",
     "text": [
      "1th MOST SIMILAR:\n",
      "  Dr. Paulo tinha que que 'driblar' Mané Paulo Machado de Carvalho chefiou a delegação brasileira em 62, como em 58. Entre suas atribuições estava \"domar\" Garrincha. Quando Pelé se machucou contra a Tchecoslováquia, Mané queria trazer sua rezadeira de Pau Grande para curar o Rei. Dr. Paulo conseguiu convencê-lo de que não ia adiantar muito. O NÚMERO 5 ...dos meias e atacantes que fracassaram em 66 foram ao México em 70: Jairzinho, Gérson, Tostão, Pelé e Edu. Os quatro primeiros foram titulares no tri. Apenas Edu saiu, dando o lugar a Rivelino. \n",
      "\n",
      "2nd MOST SIMILAR:\n",
      "  Da Folha Sudeste  O vice-presidente de futebol do Mogi Mirim, Henrique Stort, negou ontem que o clube tenha vendido o passe do atacante Rivaldo para o Palmeiras. Segundo Stort, tudo não passa de boato. ``Eu posso garantir que não há nada de concreto sobre a venda do Rivaldo e a situação ainda está indefinida'', disse o dirigente.  Ele também disse que um empresário do clube recebeu proposta do São Paulo, que está tentando o seu empréstimo do jogador até o fim  da Copa. \n"
     ]
    }
   ],
   "source": [
    "new_document = '''\n",
    "O modelo de jogo do Felipão é esse, é convicção. \n",
    "O que se discute é que, apesar do sucesso no Brasileirão, no qual o time usa ligação direta, \n",
    "tem pouca troca de passes, gosta da bola no centroavante e da disputa da segunda bola, \n",
    "é se isso será suficiente para passar do Boca Juniors. \n",
    "No Brasileiro, o repertório é suficiente para ser líder. \n",
    "Para mim, o campeonato acabou. Acabou a brincadeira.\"\n",
    "'''\n",
    "\n",
    "# Preprocess new document\n",
    "p = Preprocessor(lang='portuguese')\n",
    "processed_new_doc = p.transform([new_document])[0]\n",
    "\n",
    "# time consuming if your model is too large\n",
    "most_similar = lda.ext_doc_n_most_similar(processed_new_doc, n=2)\n",
    "\n",
    "print(\"1th MOST SIMILAR:\\n\", corpus['articles'][most_similar[0]])\n",
    "print()\n",
    "print(\"2nd MOST SIMILAR:\\n\", corpus['articles'][most_similar[1]])\n"
   ]
  },
  {
   "cell_type": "code",
   "execution_count": null,
   "metadata": {},
   "outputs": [],
   "source": []
  }
 ],
 "metadata": {
  "kernelspec": {
   "display_name": "Python 3",
   "language": "python",
   "name": "python3"
  },
  "language_info": {
   "codemirror_mode": {
    "name": "ipython",
    "version": 3
   },
   "file_extension": ".py",
   "mimetype": "text/x-python",
   "name": "python",
   "nbconvert_exporter": "python",
   "pygments_lexer": "ipython3",
   "version": "3.6.6"
  }
 },
 "nbformat": 4,
 "nbformat_minor": 2
}
