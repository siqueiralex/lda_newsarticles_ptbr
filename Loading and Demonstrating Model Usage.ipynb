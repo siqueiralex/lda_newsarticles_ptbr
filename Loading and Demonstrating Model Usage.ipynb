{
 "cells": [
  {
   "cell_type": "code",
   "execution_count": 1,
   "metadata": {},
   "outputs": [],
   "source": [
    "from LdaMalletHandler import LdaMalletHandler\n",
    "import Loader\n",
    "from PreProcessor import Preprocessor"
   ]
  },
  {
   "cell_type": "code",
   "execution_count": 2,
   "metadata": {},
   "outputs": [],
   "source": [
    "saved_model_name = \"FolhaCompleto100t_1000i\"\n",
    "mallet_path = \"/Users/alex/mallet-2.0.8/bin/mallet\""
   ]
  },
  {
   "cell_type": "markdown",
   "metadata": {},
   "source": [
    "### Loading saved model"
   ]
  },
  {
   "cell_type": "code",
   "execution_count": 3,
   "metadata": {},
   "outputs": [],
   "source": [
    "lda = LdaMalletHandler(mallet_path=mallet_path)\n",
    "lda.load_model(saved_model_name)\n",
    "\n",
    "# load corpus from path stored in the saved model\n",
    "corpus = Loader.load_from_folder(\"data/Folhacompleto/\")"
   ]
  },
  {
   "cell_type": "code",
   "execution_count": 7,
   "metadata": {},
   "outputs": [
    {
     "name": "stdout",
     "output_type": "stream",
     "text": [
      "Size of vocabulary: 249115\n"
     ]
    }
   ],
   "source": [
    "print(\"Size of vocabulary:\",len(lda.dictionary.keys()))"
   ]
  },
  {
   "cell_type": "code",
   "execution_count": 4,
   "metadata": {
    "scrolled": true
   },
   "outputs": [
    {
     "name": "stdout",
     "output_type": "stream",
     "text": [
      "Some topics of the model:\n"
     ]
    },
    {
     "data": {
      "text/plain": [
       "['paulo sp jose santos rio folha belo minas horizonte preto',\n",
       " 'paises brasil internacional america mundial latina mundo mercosul comercio estados',\n",
       " 'tudo bem gente fazer mundo coisa sempre melhor bom ver',\n",
       " 'moda roupas modelos cores roupa marca nova colecao estilo estilista',\n",
       " 'governo previdencia salario social orcamento minimo recursos funcionarios salarios gastos',\n",
       " 'todos povo vida grande bem melhor sempre pois nesta momento',\n",
       " 'anos tres dois quatro cinco meses seis dez duas ultimos',\n",
       " 'producao toneladas agricultura produtores milhoes leite agricola safra produto rural',\n",
       " 'banco bancos central bc divida governo bilhoes credito economico dinheiro',\n",
       " 'contra publico qualquer publica nada opiniao fato apenas pais falta']"
      ]
     },
     "execution_count": 4,
     "metadata": {},
     "output_type": "execute_result"
    }
   ],
   "source": [
    "print(\"Some topics of the model:\")\n",
    "all_topics = lda.get_string_topics()\n",
    "all_topics[:10]"
   ]
  },
  {
   "cell_type": "markdown",
   "metadata": {},
   "source": [
    "### Most representative document of topic"
   ]
  },
  {
   "cell_type": "code",
   "execution_count": 21,
   "metadata": {},
   "outputs": [
    {
     "name": "stdout",
     "output_type": "stream",
     "text": [
      "MOST REPRESENTATIVE DOCUMENTS OF TOPIC:\n",
      "saude medico hospital medicos doenca casos aids virus tratamento hospitais\n",
      "\n",
      "\n",
      "1995-06-03 00:00:00  Paulistanos sofrem com febre alta, dores no corpo, garganta inflamada e excesso de catarro  Da Reportagem Local  Tudo começa com um simples espirro. Depois, o nariz escorre, a garganta inflama, o corpo inteiro dói e uma febre alta se instala. Em dois dias, a pessoa está de cama, sem a mínima disposição para qualquer atividade. Trata-se de uma ``supergripe\" causada pelo vírus Influenza tipo A, que já ``derrubou\" cerca de 30% dos paulistanos, segundo o pediatra Anthony Wong, 48, do Instituto da Criança do Hospital das Clínicas e professor da USP. O vírus, que chegou ao Brasil em maio, é o mesmo que causou um surto de gripe nos EUA e matou 200 idosos no começo do ano. A principal característica da ``supergripe\" é uma febre alta, acima de 39 graus. Excesso de catarro e dor de cabeça também são comuns. Os sintomas duram de cinco a sete dias. Nos casos mais graves, a doença pode levar a uma pneumonia (infecção no pulmão). Para atenuar os sintomas, o médico pode receitar analgésicos e antitérmicos. A ingestão de líquidos ajuda a hidratar o corpo. O doente não deve nunca automedicar-se. Segundo o infectologista Vicente Amato Neto, 67, do Hospital das Clínicas, a gripe é uma das doenças respiratórias agudas comuns no outono e no inverno. ``Com temperaturas mais baixas, o aparelho respiratório não se defende tão bem, as pessoas convivem mais em lugares fechados e a transmissão fica mais intensa.\" As doenças respiratórias agudas podem ser causadas por vírus, bactérias ou outros microorganismos. ``As infecções atacam desde o nariz, como no resfriado comum, até os pulmões, no caso da pneumonia\", afirma Amato. As mutações do vírus da gripe tornam ineficazes os medicamentos para combatê-lo. ``Quando a população está imune ao vírus, ele muda e pega as pessoas novamente.\" Segundo Amato, quando tem uma doença respiratória, a pessoa deve procurar um médico, ``que poderá dizer qual o tipo de infecção e o tratamento adequado\". \n",
      "\n",
      "1995-06-02 00:00:00  Da Reportagem Local  O Arenavírus e o Hantavírus fazem parte dos vírus causadores das febres hemorrágicas, que provocam, entre outros sintomas, febre e hemorragias pelo corpo. Segundo o infectologista Vicente Amato Neto, 67, do Hospital das Clínicas, há quatro grupos de vírus das febres hemorrágicas. Diferenças biológicas entre os vírus determinam a divisão. ``No caso desses quatro grupos, a constituição dos vírus é diferente, mas há alguns elementos em comum.\" Segundo Amato, o Arenavírus faz parte do primeiro grupo. É transmitido por excreções de ratos e contamina o homem pelas vias aéreas (respiração). Apenas na Nigéria, houve a transmissão de pessoa para pessoa. O Arenavírus já atacou na Argentina, Bolívia e Venezuela. No Brasil, nesse grupo, foi isolado o vírus Sabiá. O segundo grupo é formado pelo Ébola, que matou 164 pessoas este ano no Zaire. O vírus causa febre, infecções pelo corpo e hemorragia. O Ébola é transmitido pelas secreções, sangue e contato com a pele e a mucosa. ``A transmissão por via aérea é admissível, mas não é tida como importante.\" No terceiro grupo estão os vírus da febre amarela e da dengue. As doenças são transmitidas pelo mosquito Aedes aegypti. A febre amarela é uma doença hemorrágica. A dengue também, mas há não-hemorrágica, em que o paciente tem dores musculares e erupção cutânea. O Hantavírus está no quarto grupo. Como o Arenavírus, é transmitido por excreções de roedores. Foram registrados três casos em Juquitiba (SP), em 93. Além de hemorragias, causa infecção nos pulmões. O último vírus suspeito de ter atacado os militares é o Arbovírus. Ele provoca sintomas semelhantes ao do Hantavírus e do Arenavírus. É diferente na segunda fase, quando causa inflamação no cérebro. \n",
      "\n",
      "1995-06-11 00:00:00  O professor Dalton Chamone (foto), titular de Hematologia e Hemoterapia da Faculdade de Medicina da USP e presidente da Fundação Pró-Sangue/Hemocentro de São Paulo, foi eleito vice-presidente do conselho de curadores da Fundação Hemocentro de Minas Gerais. Essas entidades prestam serviços na área da coleta, fracionamento, fornecimento e transfusão de sangue, atendendo principalmente aos hospitais públicos.  A FRASE  ``Dever-se-ia controlar constantemente a qualidade dos medicamentos comercializados.\" (Do professor Jiben Roy, no artigo ``A ameaça dos medicamentos de qualidade inferior à norma\", publicado na revista ``Foro Mundial de la Salud\", publicação da Organização Mundial da Saúde).  O NÚMERO  12  ... milhões de mortes ocorrem por ano, em todo o mundo, por doenças cardiovasculares, segundo a OMS.  Epidemia no Zaire está sob controle A comissão internacional que coordena o atendimento médico dos pacientes atingidos pela epidemia provocada pelo vírus Ébola comunicou à OMS que a fase aguda da febre hemorrágica terminou no Zaire. Os novos casos são de pessoas que já estavam no período de incubação da doença e a transmissão do vírus está em vias de ser interrompida.  Radiografias exigem cuidados especiais  Substâncias que facilitam a visualização das artérias nos exames radiológicos (um contraste à base de iodo), podem provocar reações alérgicas ou desencadear insuficiência cardíaca. Brendan J. Barret, da Universidade de Newfoundland, Canadá, em editorial publicado no ``The New England Journal of Medicine\", destaca um risco a mais para os diabéticos. Para os que já tiveram problemas nos rins, o exame contrastado pode representar um alto risco de deterioração da função renal pela nefrotoxidade que pode ser provocada pelo contraste.  Bactérias nos alimentos provocam diarréias  As infecções de origem alimentar que podem provocar diarréias são frequentes. Elas são provocadas por bactérias que se desenvolvem dentro da comida. Na origem dessa contaminação, segundo a OMS, estão a preparação das refeições muito tempo antes do consumo; contaminação cruzada de alimentos crus e cozidos, quando colocados no prato; e quando a comida já preparada fica muito tempo em temperatura ambiente, que permite a proliferação das bactérias.  (Julio Abramczyk) \n",
      "\n",
      "1994-12-19 00:00:00  CARI RODRIGUES  Da Sucursal de Brasília  O Ministério da Saúde foi contra a obrigatoriedade da realização do teste anti-HTLV-1 nos bancos de sangue desde 1989, quando a comunidade médica apresentou os primeiros estudos sobre o perigo do vírus. O argumento dos técnicos do setor de Doenças Sexualmente Transmissíveis do Ministério da Saúde, conforme apurou a Folha, era de que o teste custava muito caro e não tinha importância devido à baixa incidência. Cada teste custa hoje R$ 9,77 e é pago pelo Sistema Unificado de Saúde. A resistência dos técnicos do Ministério da Saúde permitiu que somente em dezembro de 1993 fosse aprovada uma portaria tornando obrigatória a realização do teste anti-HTLV-1. Mesmo assim, muitos bancos de sangue não realizam o teste. A Secretaria da Saúde da Amazônia, por exemplo, nunca remeteu à Coordenação de Sangue e Hemoderivados do Ministério o relatório sobre a aplicação do teste. \"Isto é uma irresponsabilidade, um relaxamento e falta de interesse pelo paciente\", disse no sábado Dalton Chamone, coordenador do Sangue e Hemoderivados do Ministério da Saúde. Chamone remete hoje um ofício ao ministro da Saúde, Henrique Santillo, solicitando modificações na portaria. Chamone quer retirar a observação de que o teste anti-HTLV-1 somente deve ser realizado em regiões onde tenha sido demonstrada a presença do vírus. O HTLV-1 foi descoberto em 1979, nos EUA. O vírus HTLV-1 é sexualmente transmissível como a Aids e também através de doadores de sangue. O vírus HTLV-1 causa paralisia nos membros inferiores, leucemia e câncer no sistema linfático. O diretor da rede de hospitais Sara Kubitschek, em Brasília, Aloysio Campos da Paz, alerta para a necessidade de conscientização de todos os médicos que tratam de pacientes com sintomas de paralisia progressiva. A investigação de infecções pelo HTLV-1 na rede Sarah Kubitschek, em pessoas com paralisia progressiva, apontou que 24% das amostras testadas são positivas. \"Muitos pacientes, em todo país, podem estar sendo tratados de forma errônea, se o teste não for realizado\", alerta Paz. \n",
      "\n",
      "1994-03-07 00:00:00  O professor Henrique Walter Pinotti (foto) e colaboradores lançam no dia 16 próximo, às 10h, no Centro de Convenções Rebouças (av. Rebouças, 600), o \"Tratado de Clínica Cirúrgica do Aparelho Digestivo\", editado pela Livraria Atheneu Editora, em homenagem aos 50 anos de atividades do Hospital das Clínicas de São Paulo.  O NÚMERO 1.768 ... casos de peste foram notificados à Organização Mundial da Saúde (OMS) em 1992, dos quais 13 nos Estados Unidos (duas mortes). No Brasil, foram 25 casos e nenhuma morte.  A FRASE \"Os progressos da medicina e a aplicação de medidas preventivas em saúde praticamente afastaram a ameaça das grandes epidemias de peste\". (Do médico Evgueny Tikhomirov, da Divisão de Doenças Transmissíveis da OMS, em março).  Pulga de rato provoca a peste Responsável pela morte de dezenas de milhões de pessoas na Idade Média, ainda hoje a peste continua produzindo algumas vítimas. A doença é provocada principalmente pela picada da pulga do rato, que transmite para as pessoas o bacilo \"yersinia pestis\". No local da picada da pulga surgem bubões (ou ínguas), que originaram o nome de peste bubônica, causando uma degradação rápida e profunda do estado físico no doente. Além da peste, o rato também provoca, através da sua urina, a leptospirose, frequente durante as enchentes.  Dormir com lente provoca inflamação Dormir com lentes de contato é criar desnecessariamente um risco para os olhos. O médico Oliver D. Schein, do Wilmer Eye Institute, da Universidade Johns Hopkins, Baltimore, Estados Unidos, relata no último número da revista \"Archives of Ophthalmology\" que 70% dos casos de inflamação nos olhos associada ao uso de lentes de contato ocorreram quando os pacientes dormiram com as lentes nos olhos de uma até três noites seguidas. (Julio Abramczyk) \n",
      "\n"
     ]
    }
   ],
   "source": [
    "topic_number = 61\n",
    "most_repr = lda.n_most_representative(topic_number,n=5)\n",
    "\n",
    "print(\"MOST REPRESENTATIVE DOCUMENTS OF TOPIC:\")\n",
    "print(all_topics[topic_number])\n",
    "print()\n",
    "print()\n",
    "for n_doc in most_repr:\n",
    "    print(corpus['dates'][n_doc], corpus['articles'][n_doc])\n",
    "    print()"
   ]
  },
  {
   "cell_type": "markdown",
   "metadata": {},
   "source": [
    "### Most significative topics of internal document"
   ]
  },
  {
   "cell_type": "code",
   "execution_count": 6,
   "metadata": {},
   "outputs": [
    {
     "name": "stdout",
     "output_type": "stream",
     "text": [
      "DOCUMENT:\n",
      " O prefeito Paulo Maluf pretende marcar sua gestão através de grandes obras viárias na cidade de São Paulo. Maluf também parece querer fazer de um conjunto de pontes, túneis e avenidas o símbolo de uma possível candidatura presidencial. Mas esse ímpeto de realizar está atropelando o direito dos cidadãos de serem bem informados sobre a utilização do seu próprio dinheiro. A Prefeitura demorou três semanas mais do que o prometido para divulgar o laudo sobre o acidente nas obras de um túnel da zona sul da cidade. Entre os dias 24 e 26 de novembro o desabamento da galeria de um córrego, causado pelos trabalhos de escavação, provocou o surgimento de duas crateras nas avenidas sobre o túnel. Desde então, o governo municipal obstruiu o trabalho da imprensa no local e limitou as informações sobre o caso a lacônicos e quase nada informativos boletins oficiais, deixando a população da região intranquila. Agora, o secretrário de Obras da cidade diz que vai ignorar a determinação da Secretaria Estadual do Meio Ambiente de São Paulo de interromper a instalação do sistema de exaustores de outro túnel, os quais causariam excessiva poluição sonora numa região residencial. Se o secretário discorda da resolução deve procurar tomar as medidas cabíveis, até na Justiça se for o caso, e não desrespeitar as decisões de um órgão que representa os interesses da população na área ambiental. A maioria dos paulistanos aprovou nas urnas o projeto malufista de transformar a cidade em um canteiro de obras. Mas não deu carta branca ao prefeito para realizá-las a qualquer custo, sem dar satisfações sobre acidentes de percurso ou a críticas da sociedade ao modo como os trabalhos vêm sendo conduzidos. É a população que paga as contas. E são os paulistanos que podem arcar com os perigos de obras malfeitas. \n",
      "\n",
      "IS LIKELY TO BELONG TO:\n",
      "Topic 47 : paulo local rua cidade avenida prefeitura zona prefeito centro secretaria - with probability: 0.277\n",
      "Topic 45 : pais sociedade brasil politica populacao apenas todos publico publica brasileira - with probability: 0.059\n"
     ]
    }
   ],
   "source": [
    "doc_number = 2\n",
    "doc_topics = lda.doc_topics(doc_number)\n",
    "\n",
    "\n",
    "print(\"DOCUMENT:\")\n",
    "print(corpus['articles'][doc_number])\n",
    "print()\n",
    "print(\"IS LIKELY TO BELONG TO:\")\n",
    "print(\"Topic\",doc_topics[0][0],\":\",all_topics[doc_topics[0][0]],\"- with probability: {:.3f}\".format(doc_topics[0][1]))\n",
    "print(\"Topic\",doc_topics[1][0],\":\",all_topics[doc_topics[1][0]],\"- with probability: {:.3f}\".format(doc_topics[1][1]))"
   ]
  },
  {
   "cell_type": "markdown",
   "metadata": {},
   "source": [
    "### Topics of new document"
   ]
  },
  {
   "cell_type": "code",
   "execution_count": 18,
   "metadata": {},
   "outputs": [
    {
     "name": "stdout",
     "output_type": "stream",
     "text": [
      "1st more likely: saude medico hospital medicos doenca casos aids virus tratamento hospitais\n",
      "2nd more likely feira semana sexta segunda dia hoje ultima quarta amanha quinta\n"
     ]
    },
    {
     "data": {
      "text/plain": [
       "[(61, 0.06720430107526887),\n",
       " (49, 0.05107526881720435),\n",
       " (33, 0.04569892473118284),\n",
       " (91, 0.022401433691756293),\n",
       " (90, 0.015232974910394279),\n",
       " (86, 0.013440860215053776),\n",
       " (21, 0.011648745519713273),\n",
       " (29, 0.011648745519713273),\n",
       " (42, 0.011648745519713273),\n",
       " (1, 0.009856630824372768),\n",
       " (17, 0.009856630824372768),\n",
       " (55, 0.009856630824372768),\n",
       " (69, 0.009856630824372768),\n",
       " (70, 0.009856630824372768),\n",
       " (74, 0.009856630824372768),\n",
       " (77, 0.009856630824372768),\n",
       " (83, 0.009856630824372768),\n",
       " (93, 0.009856630824372768),\n",
       " (0, 0.008064516129032265),\n",
       " (2, 0.008064516129032265),\n",
       " (3, 0.008064516129032265),\n",
       " (4, 0.008064516129032265),\n",
       " (5, 0.008064516129032265),\n",
       " (6, 0.008064516129032265),\n",
       " (7, 0.008064516129032265),\n",
       " (8, 0.008064516129032265),\n",
       " (9, 0.008064516129032265),\n",
       " (10, 0.008064516129032265),\n",
       " (11, 0.008064516129032265),\n",
       " (12, 0.008064516129032265),\n",
       " (13, 0.008064516129032265),\n",
       " (14, 0.008064516129032265),\n",
       " (15, 0.008064516129032265),\n",
       " (16, 0.008064516129032265),\n",
       " (18, 0.008064516129032265),\n",
       " (19, 0.008064516129032265),\n",
       " (20, 0.008064516129032265),\n",
       " (22, 0.008064516129032265),\n",
       " (23, 0.008064516129032265),\n",
       " (24, 0.008064516129032265),\n",
       " (25, 0.008064516129032265),\n",
       " (26, 0.008064516129032265),\n",
       " (27, 0.008064516129032265),\n",
       " (28, 0.008064516129032265),\n",
       " (30, 0.008064516129032265),\n",
       " (31, 0.008064516129032265),\n",
       " (32, 0.008064516129032265),\n",
       " (34, 0.008064516129032265),\n",
       " (35, 0.008064516129032265),\n",
       " (36, 0.008064516129032265),\n",
       " (37, 0.008064516129032265),\n",
       " (38, 0.008064516129032265),\n",
       " (39, 0.008064516129032265),\n",
       " (40, 0.008064516129032265),\n",
       " (41, 0.008064516129032265),\n",
       " (43, 0.008064516129032265),\n",
       " (44, 0.008064516129032265),\n",
       " (45, 0.008064516129032265),\n",
       " (46, 0.008064516129032265),\n",
       " (47, 0.008064516129032265),\n",
       " (48, 0.008064516129032265),\n",
       " (50, 0.008064516129032265),\n",
       " (51, 0.008064516129032265),\n",
       " (52, 0.008064516129032265),\n",
       " (53, 0.008064516129032265),\n",
       " (54, 0.008064516129032265),\n",
       " (56, 0.008064516129032265),\n",
       " (57, 0.008064516129032265),\n",
       " (58, 0.008064516129032265),\n",
       " (59, 0.008064516129032265),\n",
       " (60, 0.008064516129032265),\n",
       " (62, 0.008064516129032265),\n",
       " (63, 0.008064516129032265),\n",
       " (64, 0.008064516129032265),\n",
       " (65, 0.008064516129032265),\n",
       " (66, 0.008064516129032265),\n",
       " (67, 0.008064516129032265),\n",
       " (68, 0.008064516129032265),\n",
       " (71, 0.008064516129032265),\n",
       " (72, 0.008064516129032265),\n",
       " (73, 0.008064516129032265),\n",
       " (75, 0.008064516129032265),\n",
       " (76, 0.008064516129032265),\n",
       " (78, 0.008064516129032265),\n",
       " (79, 0.008064516129032265),\n",
       " (80, 0.008064516129032265),\n",
       " (81, 0.008064516129032265),\n",
       " (82, 0.008064516129032265),\n",
       " (84, 0.008064516129032265),\n",
       " (85, 0.008064516129032265),\n",
       " (87, 0.008064516129032265),\n",
       " (88, 0.008064516129032265),\n",
       " (89, 0.008064516129032265),\n",
       " (92, 0.008064516129032265),\n",
       " (94, 0.008064516129032265),\n",
       " (95, 0.008064516129032265),\n",
       " (96, 0.008064516129032265),\n",
       " (97, 0.008064516129032265),\n",
       " (98, 0.008064516129032265),\n",
       " (99, 0.008064516129032265)]"
      ]
     },
     "execution_count": 18,
     "metadata": {},
     "output_type": "execute_result"
    }
   ],
   "source": [
    "new_document = '''\n",
    "O Brasil registrou uma redução de 16% no número de detecções de Aids em 2018, \n",
    "segundo o Boletim Epidemiologico divulgado nesta terça-feira\n",
    "'''\n",
    "\n",
    "# Preprocess new document\n",
    "p = Preprocessor(lang='portuguese')\n",
    "processed_new_doc = p.transform([new_document])[0]\n",
    "\n",
    "# time consuming if your model is too large \n",
    "topics = lda.ext_doc_topics(processed_new_doc)\n",
    "\n",
    "print(\"1st more likely:\", all_topics[topics[0][0]])\n",
    "print(\"2nd more likely\",all_topics[topics[1][0]])\n",
    "topics"
   ]
  },
  {
   "cell_type": "markdown",
   "metadata": {},
   "source": [
    "###  Most similar to new document"
   ]
  },
  {
   "cell_type": "code",
   "execution_count": 8,
   "metadata": {},
   "outputs": [
    {
     "name": "stdout",
     "output_type": "stream",
     "text": [
      "1th MOST SIMILAR:\n",
      " 1995-01-05 00:00:00  O Comitê da Cidadania dos Funcionários do Banco do Brasil inaugura hoje um posto de saúde na favela do Pirambu, considerada a maior de Fortaleza. Foram investidos R$ 12 mil no posto, que contará com serviço de atendimento médico e odontológico e uma farmácia. O posto ocupará uma área de 100 m2.  \n",
      "\n",
      "2nd MOST SIMILAR:\n",
      " 1995-10-14 00:00:00   DROGAS - Acontece no próximo dia 19, às 15h, no Colégio Rio Branco (zona oeste de SP), o ``Fórum de Debates sobre Prevenção de Drogas e Aids em Escolas\". O debate será coordenado pelo professor Claude Olievenstein, diretor do Centre Medical Marmottan de Paris, especializado na recuperação de farmacodependentes. Mais informações sobre o evento podem ser obtidas pelo tel. 549-5255. \n"
     ]
    }
   ],
   "source": [
    "new_document = '''\n",
    "O Brasil registrou uma redução de 16% no número de detecções de Aids em 2018, \n",
    "segundo o Boletim Epidemiologico divulgado nesta terça-feira\n",
    "'''\n",
    "\n",
    "# Preprocess new document\n",
    "p = Preprocessor(lang='portuguese')\n",
    "processed_new_doc = p.transform([new_document])[0]\n",
    "\n",
    "# time consuming if your model is too large\n",
    "most_similar = lda.ext_doc_n_most_similar(processed_new_doc, n=2)\n",
    "\n",
    "print(\"1th MOST SIMILAR:\\n\", corpus['dates'][most_similar[0]],corpus['articles'][most_similar[0]])\n",
    "print()\n",
    "print(\"2nd MOST SIMILAR:\\n\", corpus['dates'][most_similar[1]],corpus['articles'][most_similar[1]])\n"
   ]
  },
  {
   "cell_type": "code",
   "execution_count": null,
   "metadata": {},
   "outputs": [],
   "source": []
  }
 ],
 "metadata": {
  "kernelspec": {
   "display_name": "Python 3",
   "language": "python",
   "name": "python3"
  },
  "language_info": {
   "codemirror_mode": {
    "name": "ipython",
    "version": 3
   },
   "file_extension": ".py",
   "mimetype": "text/x-python",
   "name": "python",
   "nbconvert_exporter": "python",
   "pygments_lexer": "ipython3",
   "version": "3.6.6"
  }
 },
 "nbformat": 4,
 "nbformat_minor": 2
}
