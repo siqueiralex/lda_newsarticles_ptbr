{
 "cells": [
  {
   "cell_type": "code",
   "execution_count": 1,
   "metadata": {},
   "outputs": [],
   "source": [
    "from LdaMalletHandler import LdaMalletHandler\n",
    "import os\n",
    "# The purpose of this script is only to demonstrate my LdaMalletHandler usage\n",
    "# Note that you must have a Loader and a Preprocessor to use this code entirely\n",
    "import Loader\n",
    "from PreProcessor import Preprocessor"
   ]
  },
  {
   "cell_type": "code",
   "execution_count": 2,
   "metadata": {},
   "outputs": [],
   "source": [
    "saved_model_name = \"FolhaCompleto_50t_100i\"\n",
    "\n",
    "if os.getcwd().split('/')[2] == 'alex':\n",
    "    lda = LdaMalletHandler(mallet_path='/Users/alex/mallet-2.0.8/bin/mallet')\n",
    "    mallet_path='/Users/alex/mallet-2.0.8/bin/mallet'\n",
    "else:\n",
    "    lda = LdaMalletHandler(mallet_path='/Users/marcosdiniz/Documents/UnB/FSI/ProjetoFinal/mallet-2.0.8/bin/mallet')\n",
    "    mallet_path='/Users/marcosdiniz/Documents/UnB/FSI/ProjetoFinal/mallet-2.0.8/bin/mallet'\n",
    "\n",
    "    \n",
    "corpus_path = \"data/Folhacompleto/\"\n",
    "corpus = Loader.load_from_folder(corpus_path)"
   ]
  },
  {
   "cell_type": "markdown",
   "metadata": {},
   "source": [
    "### Loading saved model"
   ]
  },
  {
   "cell_type": "code",
   "execution_count": 3,
   "metadata": {},
   "outputs": [],
   "source": [
    "lda = LdaMalletHandler(mallet_path=mallet_path)\n",
    "lda.load_model(saved_model_name)"
   ]
  },
  {
   "cell_type": "code",
   "execution_count": 4,
   "metadata": {},
   "outputs": [
    {
     "name": "stdout",
     "output_type": "stream",
     "text": [
      "Some topics of the model:\n"
     ]
    },
    {
     "data": {
      "text/plain": [
       "['ser pode diz podem uso anos tratamento corpo tipo deve',\n",
       " 'casa agua restaurante tel animais restaurantes cozinha comida bar la',\n",
       " 'pesquisa segundo diz terra anos pessoas dois apenas area afirma',\n",
       " 'livro sobre historia mulheres livros vida autor seculo anos homens',\n",
       " 'musica show disco banda grupo anos rock musicas jazz cantor',\n",
       " 'carro carros paulo veiculos sp ser segundo andar telefone cep',\n",
       " 'brasil paises pais internacional argentina brasileiro eua estados brasileira comercio',\n",
       " 'ser bem tudo dizer nada porque qualquer verdade pode tao',\n",
       " 'teatro arte exposicao peca museu hoje obras artista mostra artistas',\n",
       " 'real inflacao plano urv governo precos salarios salario moeda valor']"
      ]
     },
     "execution_count": 4,
     "metadata": {},
     "output_type": "execute_result"
    }
   ],
   "source": [
    "print(\"Some topics of the model:\")\n",
    "all_topics = lda.get_string_topics()\n",
    "all_topics[:10]"
   ]
  },
  {
   "cell_type": "markdown",
   "metadata": {},
   "source": [
    "# "
   ]
  },
  {
   "cell_type": "code",
   "execution_count": 5,
   "metadata": {},
   "outputs": [],
   "source": [
    "def distriTemp(topic_number, num):\n",
    "    '''\n",
    "    topic_number: número do tópico a ser usado\n",
    "    num: número de tópicos\n",
    "    '''\n",
    "    dates = []\n",
    "    most_repr = lda.n_most_representative(topic_number,n=num)\n",
    "    for n_doc in most_repr:\n",
    "        dAux = corpus['dates'][n_doc]\n",
    "        year = dAux.year\n",
    "        month = dAux.month\n",
    "        day = dAux.day\n",
    "        dates.append([year, month, day])\n",
    "    return dates"
   ]
  },
  {
   "cell_type": "code",
   "execution_count": 6,
   "metadata": {},
   "outputs": [],
   "source": [
    "def lista2dict(listaDates):\n",
    "    months = [1,2,3,4,5,6,7,8,9,10,11,12]\n",
    "    dicio94 = {}\n",
    "    dicio95 = {}\n",
    "    for date in listaDates:\n",
    "        if date[0] == 1994:\n",
    "            if date[1] in dicio94:\n",
    "                dicio94[date[1]] += 1\n",
    "            else:\n",
    "                dicio94[date[1]] = 1\n",
    "        else:\n",
    "            if date[1] in dicio95:\n",
    "                dicio95[date[1]] += 1\n",
    "            else:\n",
    "                dicio95[date[1]] = 1\n",
    "    return dicio94, dicio95"
   ]
  },
  {
   "cell_type": "code",
   "execution_count": 7,
   "metadata": {},
   "outputs": [
    {
     "ename": "NameError",
     "evalue": "name 'plot' is not defined",
     "output_type": "error",
     "traceback": [
      "\u001b[0;31m---------------------------------------------------------------------------\u001b[0m",
      "\u001b[0;31mNameError\u001b[0m                                 Traceback (most recent call last)",
      "\u001b[0;32m<ipython-input-7-92921323f2bc>\u001b[0m in \u001b[0;36m<module>\u001b[0;34m\u001b[0m\n\u001b[1;32m      2\u001b[0m \u001b[0mnum\u001b[0m \u001b[0;34m=\u001b[0m \u001b[0;36m500\u001b[0m\u001b[0;34m\u001b[0m\u001b[0m\n\u001b[1;32m      3\u001b[0m \u001b[0md1\u001b[0m\u001b[0;34m,\u001b[0m \u001b[0md2\u001b[0m \u001b[0;34m=\u001b[0m \u001b[0mlista2dict\u001b[0m\u001b[0;34m(\u001b[0m\u001b[0mdistriTemp\u001b[0m\u001b[0;34m(\u001b[0m\u001b[0mtopic_number\u001b[0m\u001b[0;34m,\u001b[0m \u001b[0mnum\u001b[0m\u001b[0;34m)\u001b[0m\u001b[0;34m)\u001b[0m\u001b[0;34m\u001b[0m\u001b[0m\n\u001b[0;32m----> 4\u001b[0;31m \u001b[0mplot\u001b[0m\u001b[0;34m(\u001b[0m\u001b[0md1\u001b[0m\u001b[0;34m,\u001b[0m \u001b[0md2\u001b[0m\u001b[0;34m)\u001b[0m\u001b[0;34m\u001b[0m\u001b[0m\n\u001b[0m",
      "\u001b[0;31mNameError\u001b[0m: name 'plot' is not defined"
     ]
    }
   ],
   "source": [
    "topic_number = 48\n",
    "num = 500\n",
    "d1, d2 = lista2dict(distriTemp(topic_number, num))\n",
    "plot(d1, d2)"
   ]
  },
  {
   "cell_type": "code",
   "execution_count": null,
   "metadata": {},
   "outputs": [],
   "source": [
    "topic_number = 37\n",
    "num = 500\n",
    "d1, d2 = lista2dict(distriTemp(topic_number, num))\n",
    "plot(d1, d2)"
   ]
  },
  {
   "cell_type": "code",
   "execution_count": null,
   "metadata": {},
   "outputs": [],
   "source": []
  }
 ],
 "metadata": {
  "kernelspec": {
   "display_name": "Python 3",
   "language": "python",
   "name": "python3"
  },
  "language_info": {
   "codemirror_mode": {
    "name": "ipython",
    "version": 3
   },
   "file_extension": ".py",
   "mimetype": "text/x-python",
   "name": "python",
   "nbconvert_exporter": "python",
   "pygments_lexer": "ipython3",
   "version": "3.6.5"
  }
 },
 "nbformat": 4,
 "nbformat_minor": 2
}
