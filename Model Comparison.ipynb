{
 "cells": [
  {
   "cell_type": "code",
   "execution_count": 1,
   "metadata": {},
   "outputs": [],
   "source": [
    "from Word2Vec import Word2Vec_Evaluation\n",
    "import sys\n",
    "from scipy.stats import spearmanr\n",
    "import requests\n",
    "import numpy as np\n",
    "from os import listdir\n",
    "from datetime import datetime\n",
    "from os.path import isdir, isfile, join\n",
    "import matplotlib.pylab as plt"
   ]
  },
  {
   "cell_type": "code",
   "execution_count": 2,
   "metadata": {},
   "outputs": [],
   "source": [
    "host = \"http://127.0.0.1:5000\""
   ]
  },
  {
   "cell_type": "code",
   "execution_count": 3,
   "metadata": {},
   "outputs": [],
   "source": [
    "def npmi_model_routine(topic_list):\n",
    "    npmi_results = []\n",
    "    \n",
    "    for topic in topic_list:\n",
    "        r = requests.post(host+\"/checktopic/\", data={'topic':\" \".join(topic.split()), 'window_size':10}) \n",
    "        if (r.status_code == 200 and eval(r.text)[\"code\"] == 200 ):\n",
    "            npmi_results.append(eval(r.text)[\"npmi\"]) \n",
    "\n",
    "    return np.mean(np.array(npmi_results))"
   ]
  },
  {
   "cell_type": "code",
   "execution_count": 4,
   "metadata": {},
   "outputs": [
    {
     "name": "stdout",
     "output_type": "stream",
     "text": [
      "analysing file FolhaCompleto200t_1000i.txt\n",
      "npmi= 0.07994661725279362\n",
      "analysing file FolhaCompletoNMF_100t.txt\n",
      "npmi= 0.07527348480321981\n",
      "analysing file FolhaCompletoNMF_150t.txt\n",
      "npmi= 0.07269719706262653\n",
      "analysing file FolhaCompletoNMF_200t.txt\n",
      "npmi= 0.06781422337876285\n",
      "analysing file FolhaCompletoNMF_50t.txt\n",
      "npmi= 0.074312489788709\n",
      "analysing file FolhaCompleto50t_1000i.txt\n",
      "npmi= 0.06909049077033474\n",
      "analysing file FolhaCompleto150t_1000i.txt\n",
      "npmi= 0.08026968281629782\n",
      "analysing file FolhaCompleto100t_1000i.txt\n",
      "npmi= 0.08154712624203357\n"
     ]
    }
   ],
   "source": [
    "folderpath = 'model_topics'\n",
    "files = [f for f in listdir(folderpath) if isfile(join(folderpath, f)) and f[0]!= '.' ]\n",
    "results = {}\n",
    "for file in files:\n",
    "    print(\"analysing file {}\".format(file))\n",
    "    arq = open(folderpath+\"/\"+file, \"r\").read()\n",
    "    topic_list = arq.splitlines()\n",
    "    result = npmi_model_routine(topic_list)\n",
    "    print(\"npmi=\", result)\n",
    "    results[file] = result"
   ]
  },
  {
   "cell_type": "code",
   "execution_count": 5,
   "metadata": {},
   "outputs": [],
   "source": [
    "res = []\n",
    "for key in results.keys():\n",
    "    res.append([key,results[key]])"
   ]
  },
  {
   "cell_type": "code",
   "execution_count": 12,
   "metadata": {},
   "outputs": [
    {
     "name": "stdout",
     "output_type": "stream",
     "text": [
      "[['FolhaCompleto100t_1000i.txt', 0.08154712624203357], ['FolhaCompleto150t_1000i.txt', 0.08026968281629782], ['FolhaCompleto200t_1000i.txt', 0.07994661725279362], ['FolhaCompletoNMF_100t.txt', 0.07527348480321981], ['FolhaCompletoNMF_50t.txt', 0.074312489788709], ['FolhaCompletoNMF_150t.txt', 0.07269719706262653], ['FolhaCompleto50t_1000i.txt', 0.06909049077033474], ['FolhaCompletoNMF_200t.txt', 0.06781422337876285]]\n"
     ]
    }
   ],
   "source": [
    "res.sort(key = lambda x: x[1], reverse=True)\n",
    "print(res)\n",
    "res[0][0] = 'LDA100'\n",
    "res[1][0] = 'LDA150'\n",
    "res[2][0] = 'LDA200'\n",
    "res[3][0] = 'NMF100'\n",
    "res[4][0] = 'NMF50'\n",
    "res[5][0] = 'NMF150'\n",
    "res[6][0] = 'LDA50'\n",
    "res[7][0] = 'NMF200'\n",
    "res.sort(key = lambda x: x[1])"
   ]
  },
  {
   "cell_type": "code",
   "execution_count": 13,
   "metadata": {},
   "outputs": [
    {
     "data": {
      "text/plain": [
       "[['NMF200', 0.06781422337876285],\n",
       " ['LDA50', 0.06909049077033474],\n",
       " ['NMF150', 0.07269719706262653],\n",
       " ['NMF50', 0.074312489788709],\n",
       " ['NMF100', 0.07527348480321981],\n",
       " ['LDA200', 0.07994661725279362],\n",
       " ['LDA150', 0.08026968281629782],\n",
       " ['LDA100', 0.08154712624203357]]"
      ]
     },
     "execution_count": 13,
     "metadata": {},
     "output_type": "execute_result"
    }
   ],
   "source": [
    "res"
   ]
  },
  {
   "cell_type": "code",
   "execution_count": 14,
   "metadata": {},
   "outputs": [],
   "source": []
  },
  {
   "cell_type": "code",
   "execution_count": 15,
   "metadata": {},
   "outputs": [
    {
     "data": {
      "image/png": "[encoded data removed]",
      "text/plain": [
       "<Figure size 576x360 with 1 Axes>"
      ]
     },
     "metadata": {
      "needs_background": "light"
     },
     "output_type": "display_data"
    }
   ],
   "source": [
    "x1, y1 = zip(*res)\n",
    "plt.figure(figsize=(8,5))\n",
    "plt.bar(x1, y1)\n",
    "plt.ylabel('NPMI MÉDIO')\n",
    "plt.title(\"Comparacão Entre Modelos e Número de Tópicos\")\n",
    "plt.show()"
   ]
  },
  {
   "cell_type": "code",
   "execution_count": null,
   "metadata": {},
   "outputs": [],
   "source": []
  }
 ],
 "metadata": {
  "kernelspec": {
   "display_name": "Python 3",
   "language": "python",
   "name": "python3"
  },
  "language_info": {
   "codemirror_mode": {
    "name": "ipython",
    "version": 3
   },
   "file_extension": ".py",
   "mimetype": "text/x-python",
   "name": "python",
   "nbconvert_exporter": "python",
   "pygments_lexer": "ipython3",
   "version": "3.6.6"
  }
 },
 "nbformat": 4,
 "nbformat_minor": 2
}
