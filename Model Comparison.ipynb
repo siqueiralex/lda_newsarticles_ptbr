{
 "cells": [
  {
   "cell_type": "code",
   "execution_count": 3,
   "metadata": {},
   "outputs": [],
   "source": [
    "import sys\n",
    "from scipy.stats import spearmanr\n",
    "import requests\n",
    "import numpy as np\n",
    "from os import listdir\n",
    "from datetime import datetime\n",
    "from os.path import isdir, isfile, join"
   ]
  },
  {
   "cell_type": "code",
   "execution_count": 4,
   "metadata": {},
   "outputs": [],
   "source": [
    "host = \"http://127.0.0.1:5000\""
   ]
  },
  {
   "cell_type": "code",
   "execution_count": 5,
   "metadata": {},
   "outputs": [],
   "source": [
    "def npmi_model_evaluation(topic_list):\n",
    "    npmi_results = []\n",
    "    \n",
    "    for topic in topic_list:\n",
    "        r = requests.post(host+\"/checktopic/\", data={'topic':\" \".join(topic.split()), 'window_size':10}) \n",
    "        if (r.status_code == 200 and eval(r.text)[\"code\"] == 200 ):\n",
    "            npmi_results.append(eval(r.text)[\"npmi\"]) \n",
    "\n",
    "    return np.mean(np.array(npmi_results))"
   ]
  },
  {
   "cell_type": "code",
   "execution_count": null,
   "metadata": {},
   "outputs": [],
   "source": [
    "folderpath = 'results'\n",
    "files = [f for f in listdir(folderpath) if isfile(join(folderpath, f)) and f[0]!= '.' ]\n",
    "results = {}\n",
    "for file in files:\n",
    "    print(\"analysing file {}\".format(file))\n",
    "    arq = open(folderpath+\"/\"+file, \"r\").read()\n",
    "    topic_list = arq.splitlines()\n",
    "    result = npmi_model_evaluation(topic_list)\n",
    "    print(\"npmi=\", result)\n",
    "    results[file] = result"
   ]
  },
  {
   "cell_type": "code",
   "execution_count": 8,
   "metadata": {},
   "outputs": [],
   "source": [
    "res = []\n",
    "for key in results.keys():\n",
    "    res.append([key,results[key]])"
   ]
  },
  {
   "cell_type": "code",
   "execution_count": 33,
   "metadata": {},
   "outputs": [],
   "source": [
    "res.sort(key = lambda x: x[1], reverse=True)"
   ]
  },
  {
   "cell_type": "code",
   "execution_count": 34,
   "metadata": {},
   "outputs": [
    {
     "data": {
      "text/plain": [
       "[['FolhaCompletoNMF_200t.txt', 0.5242956906090923],\n",
       " ['FolhaCompletoNMF_150t.txt', 0.4698479731146263],\n",
       " ['FolhaCompletoNMF_100t.txt', 0.46752581534597293],\n",
       " ['FolhaCompletoNMF_50t.txt', 0.35086499224643286],\n",
       " ['FolhaCompleto100t_500i.txt', 0.29545796067548574],\n",
       " ['FolhaCompleto150t_500i.txt', 0.2857830732399683],\n",
       " ['FolhaCompleto200t_500i.txt', 0.26990275658314095],\n",
       " ['FolhaCompleto50t_500i.txt', 0.23651910151097763]]"
      ]
     },
     "execution_count": 34,
     "metadata": {},
     "output_type": "execute_result"
    }
   ],
   "source": [
    "res"
   ]
  },
  {
   "cell_type": "code",
   "execution_count": null,
   "metadata": {},
   "outputs": [],
   "source": []
  }
 ],
 "metadata": {
  "kernelspec": {
   "display_name": "Python 3",
   "language": "python",
   "name": "python3"
  },
  "language_info": {
   "codemirror_mode": {
    "name": "ipython",
    "version": 3
   },
   "file_extension": ".py",
   "mimetype": "text/x-python",
   "name": "python",
   "nbconvert_exporter": "python",
   "pygments_lexer": "ipython3",
   "version": "3.6.6"
  }
 },
 "nbformat": 4,
 "nbformat_minor": 2
}
